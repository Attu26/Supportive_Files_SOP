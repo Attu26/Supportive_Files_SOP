{
  "cells": [
    {
      "cell_type": "markdown",
      "id": "6a7d5404",
      "metadata": {
        "id": "6a7d5404"
      },
      "source": [
        "<font color='blue'>\n",
        "    <font size = 5>\n",
        "        You have been given the role of a business analyst for an E-Commerce company and have been asked to prepare a basic report on the data. Follow the steps below for preparation of the report. \n",
        "\n",
        "Before you start analysing the data, it is always a good practice to see the size of the data, its features and feature types. If the data set is big, it is not possible to print out all the records. \n",
        "    </font>\n",
        "####  Note: Use the markdown feature of Python to explain your answer.\n",
        "    "
      ]
    },
    {
      "cell_type": "markdown",
      "id": "daf5d935",
      "metadata": {
        "id": "daf5d935"
      },
      "source": [
        "## Load the necessary libraries. Import and load the dataset with a name ECom_Data ."
      ]
    },
    {
      "cell_type": "code",
      "execution_count": null,
      "id": "eec2a3b5",
      "metadata": {
        "id": "eec2a3b5"
      },
      "outputs": [],
      "source": [
        "import numpy as np\n",
        "import pandas as pd\n",
        "import matplotlib.pyplot as plt\n",
        "import seaborn as sns\n",
        "pd.options.display.max_rows = 10\n",
        "%matplotlib inline\n",
        "import plotly.express as px\n"
      ]
    },
    {
      "cell_type": "code",
      "source": [],
      "metadata": {
        "id": "bX36sfdKhYyR"
      },
      "id": "bX36sfdKhYyR",
      "execution_count": null,
      "outputs": []
    },
    {
      "cell_type": "code",
      "source": [
        "from google.colab import drive\n",
        "drive.mount('/content/drive')"
      ],
      "metadata": {
        "colab": {
          "base_uri": "https://localhost:8080/"
        },
        "id": "sDTH6oulBJlp",
        "outputId": "008bdca3-1f40-441b-a49b-0bcd1d7b466e"
      },
      "id": "sDTH6oulBJlp",
      "execution_count": null,
      "outputs": [
        {
          "output_type": "stream",
          "name": "stdout",
          "text": [
            "Mounted at /content/drive\n"
          ]
        }
      ]
    },
    {
      "cell_type": "code",
      "execution_count": null,
      "id": "8e1fcc97",
      "metadata": {
        "id": "8e1fcc97"
      },
      "outputs": [],
      "source": [
        "# Get the Data\n",
        "\n",
        "ECom_Data=pd.read_csv('/content/drive/MyDrive/E-Commerce.csv') "
      ]
    },
    {
      "cell_type": "markdown",
      "id": "2cf5f20f",
      "metadata": {
        "id": "2cf5f20f"
      },
      "source": [
        "<font color='blue'>\n",
        "    <font size = 5>\n",
        "        We have read the data and stored the data in \"ECom_Data\" variable </font>"
      ]
    },
    {
      "cell_type": "code",
      "source": [],
      "metadata": {
        "id": "ZISgI6BFlDnP"
      },
      "id": "ZISgI6BFlDnP",
      "execution_count": null,
      "outputs": []
    },
    {
      "cell_type": "markdown",
      "id": "a0a4f84a",
      "metadata": {
        "id": "a0a4f84a"
      },
      "source": [
        "## Q 1.\tTo get familiar with the data\n",
        "## a)\tPrint out the first 10 and the last 10 records of the data. (2 marks)\n",
        "## b)\tHow many rows and columns are present in the dataset? Use any two different methods to extract this information. (2 + 2 + 2 marks)\n",
        "## c)\tHow many object data types are there? (1 mark)\n",
        "## d)\tIs there any Boolean data type? (1 mark) \n",
        "#### Note: Use the markdown feature of Python to explain your answer.\n"
      ]
    },
    {
      "cell_type": "markdown",
      "id": "0ba43d74",
      "metadata": {
        "id": "0ba43d74"
      },
      "source": [
        "#### Ans 1 a)"
      ]
    },
    {
      "cell_type": "code",
      "execution_count": null,
      "id": "6684f5a1",
      "metadata": {
        "id": "6684f5a1",
        "colab": {
          "base_uri": "https://localhost:8080/",
          "height": 982
        },
        "outputId": "d52b2d62-27e0-47b7-8a85-a18f938b1829"
      },
      "outputs": [
        {
          "output_type": "execute_result",
          "data": {
            "text/plain": [
              "                   Customer_uniq_id Region  Order_Date Expected_Delivery_Date  \\\n",
              "0  e71017e224688489edfe856f2308806d  East   24-10-2021             25-10-2021   \n",
              "1  6286847ee2da18f587503db49511c539  East   24-10-2021             25-10-2021   \n",
              "2  0686fec9b70e5039583a38119ca0c835   West  24-10-2021             25-10-2021   \n",
              "3  ea2406dc597bee2abb6b867fa668501f   West  24-10-2021             25-10-2021   \n",
              "4  5935ed077915347dc695744df68c565c  East   03-09-2021             04-09-2021   \n",
              "5  89fcdddaad50084e395d0928a7426afe  East   03-09-2021             04-09-2021   \n",
              "6  b9b183aa18d3a721d2ac23e7184525b0  East   03-09-2021             04-09-2021   \n",
              "7  dee64864c0419bec80fbbb94d19bc40d  East   03-09-2021             04-09-2021   \n",
              "8  595f55f2c1293f07ea9ec9fa2bb39f46  East   03-09-2021             04-09-2021   \n",
              "9  547b6585272473ae006bcfbdb47b6ae0   West  26-08-2021             27-08-2021   \n",
              "\n",
              "  Delivered_Date                                       product_name  \\\n",
              "0     25-10-2021  Indcrown Net Embroidered Semi-stitched Lehenga...   \n",
              "1     25-10-2021      Shopmania Music Band A5 Notebook Spiral Bound   \n",
              "2     25-10-2021      Shopmania Music Band A5 Notebook Spiral Bound   \n",
              "3     25-10-2021  Tiara Diaries 2016-2017 Designer LA Kaarta \"TA...   \n",
              "4     04-09-2021                KAJCI Embroidered Women's Waistcoat   \n",
              "5     04-09-2021  Packman 8 x 10 inches Security Bags Without PO...   \n",
              "6     04-09-2021          Pick Pocket Embroidered Women's Waistcoat   \n",
              "7     04-09-2021                        Angelfish Silk Potali Potli   \n",
              "8     04-09-2021                                 Oye Boy's Dungaree   \n",
              "9     27-08-2021                                Nuride Canvas Shoes   \n",
              "\n",
              "    product_main_category    product_subcategory    product_category_filter  \\\n",
              "0               Clothing       Women's Clothing                Ethnic Wear    \n",
              "1      Pens & Stationery    Diaries & Notebooks                  Notebooks    \n",
              "2      Pens & Stationery    Diaries & Notebooks                  Notebooks    \n",
              "3      Pens & Stationery    Diaries & Notebooks                  Notebooks    \n",
              "4               Clothing       Women's Clothing                Formal Wear    \n",
              "5      Pens & Stationery        Office Supplies    Packaging Security Bags    \n",
              "6               Clothing       Women's Clothing                Formal Wear    \n",
              "7  Bags, Wallets & Belts                   Bags         Pouches and Potlis    \n",
              "8               Clothing         Kids' Clothing                  Boys Wear    \n",
              "9               Footwear       Women's Footwear               Casual Shoes    \n",
              "\n",
              "          product_category_subfilter product_unique ID  retail_price  \\\n",
              "0                            Fabric   FABEJX2NHNKCYHKA           999   \n",
              "1                          Designer   DIAEJ6Z8BEDTGGYY           499   \n",
              "2                          Designer   DIAEJ6Z8KQFWDEGH           499   \n",
              "3                          Designer   DIAEJ8FGHZ3K86JU          1000   \n",
              "4                        Waistcoats   WSCEG2FYDYFDSVZ6          1200   \n",
              "5   Packman Packaging Security Bags   PKBEGBTRKKHU26YQ           350   \n",
              "6                        Waistcoats   WSCEFUV4TVWT73ZB           899   \n",
              "7      Angelfish Pouches and Potlis   PPSEGFYAGD8FYUXV           999   \n",
              "8             Dungarees & Jumpsuits   DRPEF2XSFBAP4SUZ           899   \n",
              "9                            Canvas   SHOEGVQCT2ZSGUHY          1999   \n",
              "\n",
              "   discounted_price  product_rating          Brand  \\\n",
              "0               699             4.0       INDCROWN   \n",
              "1               275             1.0      SHOPMANIA   \n",
              "2               275             2.0      SHOPMANIA   \n",
              "3               837             3.0  TIARA DIARIES   \n",
              "4               699             5.0          KAJCI   \n",
              "5               298             4.0        PACKMAN   \n",
              "6               899             1.0    PICK POCKET   \n",
              "7               399             4.0      ANGELFISH   \n",
              "8               764             1.0            OYE   \n",
              "9              1349             2.0         NURIDE   \n",
              "\n",
              "                              product_specifications  \\\n",
              "0  {\"product_specification\"=>[{\"key\"=>\"Fabric\", \"...   \n",
              "1  {\"product_specification\"=>[{\"key\"=>\"Ruling\", \"...   \n",
              "2  {\"product_specification\"=>[{\"key\"=>\"Ruling\", \"...   \n",
              "3  {\"product_specification\"=>[{\"key\"=>\"Ruling\", \"...   \n",
              "4  {\"product_specification\"=>[{\"key\"=>\"Pattern\", ...   \n",
              "5  {\"product_specification\"=>[{\"key\"=>\"Bubble Wra...   \n",
              "6  {\"product_specification\"=>[{\"key\"=>\"Pattern\", ...   \n",
              "7  {\"product_specification\"=>[{\"key\"=>\"Closure\", ...   \n",
              "8  {\"product_specification\"=>[{\"key\"=>\"Number of ...   \n",
              "9  {\"product_specification\"=>[{\"key\"=>\"Occasion\",...   \n",
              "\n",
              "                                         description  \n",
              "0  Key Features of Indcrown Net Embroidered Semi-...  \n",
              "1  Specifications of Shopmania Music Band A5 Note...  \n",
              "2  Specifications of Shopmania Music Band A5 Note...  \n",
              "3  Specifications of Tiara Diaries 2016-2017 Desi...  \n",
              "4  Specifications of KAJCI Embroidered Women's Wa...  \n",
              "5  Key Features of Packman 8 x 10 inches Security...  \n",
              "6  Specifications of Pick Pocket Embroidered Wome...  \n",
              "7  Angelfish Silk Potali Potli (Multicolor) Price...  \n",
              "8  Specifications of Oye Boy's Dungaree Top Detai...  \n",
              "9  Key Features of Nuride Canvas Shoes Material: ...  "
            ],
            "text/html": [
              "\n",
              "  <div id=\"df-1aa4a772-7a21-4a3d-b75d-b91fe097d2de\">\n",
              "    <div class=\"colab-df-container\">\n",
              "      <div>\n",
              "<style scoped>\n",
              "    .dataframe tbody tr th:only-of-type {\n",
              "        vertical-align: middle;\n",
              "    }\n",
              "\n",
              "    .dataframe tbody tr th {\n",
              "        vertical-align: top;\n",
              "    }\n",
              "\n",
              "    .dataframe thead th {\n",
              "        text-align: right;\n",
              "    }\n",
              "</style>\n",
              "<table border=\"1\" class=\"dataframe\">\n",
              "  <thead>\n",
              "    <tr style=\"text-align: right;\">\n",
              "      <th></th>\n",
              "      <th>Customer_uniq_id</th>\n",
              "      <th>Region</th>\n",
              "      <th>Order_Date</th>\n",
              "      <th>Expected_Delivery_Date</th>\n",
              "      <th>Delivered_Date</th>\n",
              "      <th>product_name</th>\n",
              "      <th>product_main_category</th>\n",
              "      <th>product_subcategory</th>\n",
              "      <th>product_category_filter</th>\n",
              "      <th>product_category_subfilter</th>\n",
              "      <th>product_unique ID</th>\n",
              "      <th>retail_price</th>\n",
              "      <th>discounted_price</th>\n",
              "      <th>product_rating</th>\n",
              "      <th>Brand</th>\n",
              "      <th>product_specifications</th>\n",
              "      <th>description</th>\n",
              "    </tr>\n",
              "  </thead>\n",
              "  <tbody>\n",
              "    <tr>\n",
              "      <th>0</th>\n",
              "      <td>e71017e224688489edfe856f2308806d</td>\n",
              "      <td>East</td>\n",
              "      <td>24-10-2021</td>\n",
              "      <td>25-10-2021</td>\n",
              "      <td>25-10-2021</td>\n",
              "      <td>Indcrown Net Embroidered Semi-stitched Lehenga...</td>\n",
              "      <td>Clothing</td>\n",
              "      <td>Women's Clothing</td>\n",
              "      <td>Ethnic Wear</td>\n",
              "      <td>Fabric</td>\n",
              "      <td>FABEJX2NHNKCYHKA</td>\n",
              "      <td>999</td>\n",
              "      <td>699</td>\n",
              "      <td>4.0</td>\n",
              "      <td>INDCROWN</td>\n",
              "      <td>{\"product_specification\"=&gt;[{\"key\"=&gt;\"Fabric\", \"...</td>\n",
              "      <td>Key Features of Indcrown Net Embroidered Semi-...</td>\n",
              "    </tr>\n",
              "    <tr>\n",
              "      <th>1</th>\n",
              "      <td>6286847ee2da18f587503db49511c539</td>\n",
              "      <td>East</td>\n",
              "      <td>24-10-2021</td>\n",
              "      <td>25-10-2021</td>\n",
              "      <td>25-10-2021</td>\n",
              "      <td>Shopmania Music Band A5 Notebook Spiral Bound</td>\n",
              "      <td>Pens &amp; Stationery</td>\n",
              "      <td>Diaries &amp; Notebooks</td>\n",
              "      <td>Notebooks</td>\n",
              "      <td>Designer</td>\n",
              "      <td>DIAEJ6Z8BEDTGGYY</td>\n",
              "      <td>499</td>\n",
              "      <td>275</td>\n",
              "      <td>1.0</td>\n",
              "      <td>SHOPMANIA</td>\n",
              "      <td>{\"product_specification\"=&gt;[{\"key\"=&gt;\"Ruling\", \"...</td>\n",
              "      <td>Specifications of Shopmania Music Band A5 Note...</td>\n",
              "    </tr>\n",
              "    <tr>\n",
              "      <th>2</th>\n",
              "      <td>0686fec9b70e5039583a38119ca0c835</td>\n",
              "      <td>West</td>\n",
              "      <td>24-10-2021</td>\n",
              "      <td>25-10-2021</td>\n",
              "      <td>25-10-2021</td>\n",
              "      <td>Shopmania Music Band A5 Notebook Spiral Bound</td>\n",
              "      <td>Pens &amp; Stationery</td>\n",
              "      <td>Diaries &amp; Notebooks</td>\n",
              "      <td>Notebooks</td>\n",
              "      <td>Designer</td>\n",
              "      <td>DIAEJ6Z8KQFWDEGH</td>\n",
              "      <td>499</td>\n",
              "      <td>275</td>\n",
              "      <td>2.0</td>\n",
              "      <td>SHOPMANIA</td>\n",
              "      <td>{\"product_specification\"=&gt;[{\"key\"=&gt;\"Ruling\", \"...</td>\n",
              "      <td>Specifications of Shopmania Music Band A5 Note...</td>\n",
              "    </tr>\n",
              "    <tr>\n",
              "      <th>3</th>\n",
              "      <td>ea2406dc597bee2abb6b867fa668501f</td>\n",
              "      <td>West</td>\n",
              "      <td>24-10-2021</td>\n",
              "      <td>25-10-2021</td>\n",
              "      <td>25-10-2021</td>\n",
              "      <td>Tiara Diaries 2016-2017 Designer LA Kaarta \"TA...</td>\n",
              "      <td>Pens &amp; Stationery</td>\n",
              "      <td>Diaries &amp; Notebooks</td>\n",
              "      <td>Notebooks</td>\n",
              "      <td>Designer</td>\n",
              "      <td>DIAEJ8FGHZ3K86JU</td>\n",
              "      <td>1000</td>\n",
              "      <td>837</td>\n",
              "      <td>3.0</td>\n",
              "      <td>TIARA DIARIES</td>\n",
              "      <td>{\"product_specification\"=&gt;[{\"key\"=&gt;\"Ruling\", \"...</td>\n",
              "      <td>Specifications of Tiara Diaries 2016-2017 Desi...</td>\n",
              "    </tr>\n",
              "    <tr>\n",
              "      <th>4</th>\n",
              "      <td>5935ed077915347dc695744df68c565c</td>\n",
              "      <td>East</td>\n",
              "      <td>03-09-2021</td>\n",
              "      <td>04-09-2021</td>\n",
              "      <td>04-09-2021</td>\n",
              "      <td>KAJCI Embroidered Women's Waistcoat</td>\n",
              "      <td>Clothing</td>\n",
              "      <td>Women's Clothing</td>\n",
              "      <td>Formal Wear</td>\n",
              "      <td>Waistcoats</td>\n",
              "      <td>WSCEG2FYDYFDSVZ6</td>\n",
              "      <td>1200</td>\n",
              "      <td>699</td>\n",
              "      <td>5.0</td>\n",
              "      <td>KAJCI</td>\n",
              "      <td>{\"product_specification\"=&gt;[{\"key\"=&gt;\"Pattern\", ...</td>\n",
              "      <td>Specifications of KAJCI Embroidered Women's Wa...</td>\n",
              "    </tr>\n",
              "    <tr>\n",
              "      <th>5</th>\n",
              "      <td>89fcdddaad50084e395d0928a7426afe</td>\n",
              "      <td>East</td>\n",
              "      <td>03-09-2021</td>\n",
              "      <td>04-09-2021</td>\n",
              "      <td>04-09-2021</td>\n",
              "      <td>Packman 8 x 10 inches Security Bags Without PO...</td>\n",
              "      <td>Pens &amp; Stationery</td>\n",
              "      <td>Office Supplies</td>\n",
              "      <td>Packaging Security Bags</td>\n",
              "      <td>Packman Packaging Security Bags</td>\n",
              "      <td>PKBEGBTRKKHU26YQ</td>\n",
              "      <td>350</td>\n",
              "      <td>298</td>\n",
              "      <td>4.0</td>\n",
              "      <td>PACKMAN</td>\n",
              "      <td>{\"product_specification\"=&gt;[{\"key\"=&gt;\"Bubble Wra...</td>\n",
              "      <td>Key Features of Packman 8 x 10 inches Security...</td>\n",
              "    </tr>\n",
              "    <tr>\n",
              "      <th>6</th>\n",
              "      <td>b9b183aa18d3a721d2ac23e7184525b0</td>\n",
              "      <td>East</td>\n",
              "      <td>03-09-2021</td>\n",
              "      <td>04-09-2021</td>\n",
              "      <td>04-09-2021</td>\n",
              "      <td>Pick Pocket Embroidered Women's Waistcoat</td>\n",
              "      <td>Clothing</td>\n",
              "      <td>Women's Clothing</td>\n",
              "      <td>Formal Wear</td>\n",
              "      <td>Waistcoats</td>\n",
              "      <td>WSCEFUV4TVWT73ZB</td>\n",
              "      <td>899</td>\n",
              "      <td>899</td>\n",
              "      <td>1.0</td>\n",
              "      <td>PICK POCKET</td>\n",
              "      <td>{\"product_specification\"=&gt;[{\"key\"=&gt;\"Pattern\", ...</td>\n",
              "      <td>Specifications of Pick Pocket Embroidered Wome...</td>\n",
              "    </tr>\n",
              "    <tr>\n",
              "      <th>7</th>\n",
              "      <td>dee64864c0419bec80fbbb94d19bc40d</td>\n",
              "      <td>East</td>\n",
              "      <td>03-09-2021</td>\n",
              "      <td>04-09-2021</td>\n",
              "      <td>04-09-2021</td>\n",
              "      <td>Angelfish Silk Potali Potli</td>\n",
              "      <td>Bags, Wallets &amp; Belts</td>\n",
              "      <td>Bags</td>\n",
              "      <td>Pouches and Potlis</td>\n",
              "      <td>Angelfish Pouches and Potlis</td>\n",
              "      <td>PPSEGFYAGD8FYUXV</td>\n",
              "      <td>999</td>\n",
              "      <td>399</td>\n",
              "      <td>4.0</td>\n",
              "      <td>ANGELFISH</td>\n",
              "      <td>{\"product_specification\"=&gt;[{\"key\"=&gt;\"Closure\", ...</td>\n",
              "      <td>Angelfish Silk Potali Potli (Multicolor) Price...</td>\n",
              "    </tr>\n",
              "    <tr>\n",
              "      <th>8</th>\n",
              "      <td>595f55f2c1293f07ea9ec9fa2bb39f46</td>\n",
              "      <td>East</td>\n",
              "      <td>03-09-2021</td>\n",
              "      <td>04-09-2021</td>\n",
              "      <td>04-09-2021</td>\n",
              "      <td>Oye Boy's Dungaree</td>\n",
              "      <td>Clothing</td>\n",
              "      <td>Kids' Clothing</td>\n",
              "      <td>Boys Wear</td>\n",
              "      <td>Dungarees &amp; Jumpsuits</td>\n",
              "      <td>DRPEF2XSFBAP4SUZ</td>\n",
              "      <td>899</td>\n",
              "      <td>764</td>\n",
              "      <td>1.0</td>\n",
              "      <td>OYE</td>\n",
              "      <td>{\"product_specification\"=&gt;[{\"key\"=&gt;\"Number of ...</td>\n",
              "      <td>Specifications of Oye Boy's Dungaree Top Detai...</td>\n",
              "    </tr>\n",
              "    <tr>\n",
              "      <th>9</th>\n",
              "      <td>547b6585272473ae006bcfbdb47b6ae0</td>\n",
              "      <td>West</td>\n",
              "      <td>26-08-2021</td>\n",
              "      <td>27-08-2021</td>\n",
              "      <td>27-08-2021</td>\n",
              "      <td>Nuride Canvas Shoes</td>\n",
              "      <td>Footwear</td>\n",
              "      <td>Women's Footwear</td>\n",
              "      <td>Casual Shoes</td>\n",
              "      <td>Canvas</td>\n",
              "      <td>SHOEGVQCT2ZSGUHY</td>\n",
              "      <td>1999</td>\n",
              "      <td>1349</td>\n",
              "      <td>2.0</td>\n",
              "      <td>NURIDE</td>\n",
              "      <td>{\"product_specification\"=&gt;[{\"key\"=&gt;\"Occasion\",...</td>\n",
              "      <td>Key Features of Nuride Canvas Shoes Material: ...</td>\n",
              "    </tr>\n",
              "  </tbody>\n",
              "</table>\n",
              "</div>\n",
              "      <button class=\"colab-df-convert\" onclick=\"convertToInteractive('df-1aa4a772-7a21-4a3d-b75d-b91fe097d2de')\"\n",
              "              title=\"Convert this dataframe to an interactive table.\"\n",
              "              style=\"display:none;\">\n",
              "        \n",
              "  <svg xmlns=\"http://www.w3.org/2000/svg\" height=\"24px\"viewBox=\"0 0 24 24\"\n",
              "       width=\"24px\">\n",
              "    <path d=\"M0 0h24v24H0V0z\" fill=\"none\"/>\n",
              "    <path d=\"M18.56 5.44l.94 2.06.94-2.06 2.06-.94-2.06-.94-.94-2.06-.94 2.06-2.06.94zm-11 1L8.5 8.5l.94-2.06 2.06-.94-2.06-.94L8.5 2.5l-.94 2.06-2.06.94zm10 10l.94 2.06.94-2.06 2.06-.94-2.06-.94-.94-2.06-.94 2.06-2.06.94z\"/><path d=\"M17.41 7.96l-1.37-1.37c-.4-.4-.92-.59-1.43-.59-.52 0-1.04.2-1.43.59L10.3 9.45l-7.72 7.72c-.78.78-.78 2.05 0 2.83L4 21.41c.39.39.9.59 1.41.59.51 0 1.02-.2 1.41-.59l7.78-7.78 2.81-2.81c.8-.78.8-2.07 0-2.86zM5.41 20L4 18.59l7.72-7.72 1.47 1.35L5.41 20z\"/>\n",
              "  </svg>\n",
              "      </button>\n",
              "      \n",
              "  <style>\n",
              "    .colab-df-container {\n",
              "      display:flex;\n",
              "      flex-wrap:wrap;\n",
              "      gap: 12px;\n",
              "    }\n",
              "\n",
              "    .colab-df-convert {\n",
              "      background-color: #E8F0FE;\n",
              "      border: none;\n",
              "      border-radius: 50%;\n",
              "      cursor: pointer;\n",
              "      display: none;\n",
              "      fill: #1967D2;\n",
              "      height: 32px;\n",
              "      padding: 0 0 0 0;\n",
              "      width: 32px;\n",
              "    }\n",
              "\n",
              "    .colab-df-convert:hover {\n",
              "      background-color: #E2EBFA;\n",
              "      box-shadow: 0px 1px 2px rgba(60, 64, 67, 0.3), 0px 1px 3px 1px rgba(60, 64, 67, 0.15);\n",
              "      fill: #174EA6;\n",
              "    }\n",
              "\n",
              "    [theme=dark] .colab-df-convert {\n",
              "      background-color: #3B4455;\n",
              "      fill: #D2E3FC;\n",
              "    }\n",
              "\n",
              "    [theme=dark] .colab-df-convert:hover {\n",
              "      background-color: #434B5C;\n",
              "      box-shadow: 0px 1px 3px 1px rgba(0, 0, 0, 0.15);\n",
              "      filter: drop-shadow(0px 1px 2px rgba(0, 0, 0, 0.3));\n",
              "      fill: #FFFFFF;\n",
              "    }\n",
              "  </style>\n",
              "\n",
              "      <script>\n",
              "        const buttonEl =\n",
              "          document.querySelector('#df-1aa4a772-7a21-4a3d-b75d-b91fe097d2de button.colab-df-convert');\n",
              "        buttonEl.style.display =\n",
              "          google.colab.kernel.accessAllowed ? 'block' : 'none';\n",
              "\n",
              "        async function convertToInteractive(key) {\n",
              "          const element = document.querySelector('#df-1aa4a772-7a21-4a3d-b75d-b91fe097d2de');\n",
              "          const dataTable =\n",
              "            await google.colab.kernel.invokeFunction('convertToInteractive',\n",
              "                                                     [key], {});\n",
              "          if (!dataTable) return;\n",
              "\n",
              "          const docLinkHtml = 'Like what you see? Visit the ' +\n",
              "            '<a target=\"_blank\" href=https://colab.research.google.com/notebooks/data_table.ipynb>data table notebook</a>'\n",
              "            + ' to learn more about interactive tables.';\n",
              "          element.innerHTML = '';\n",
              "          dataTable['output_type'] = 'display_data';\n",
              "          await google.colab.output.renderOutput(dataTable, element);\n",
              "          const docLink = document.createElement('div');\n",
              "          docLink.innerHTML = docLinkHtml;\n",
              "          element.appendChild(docLink);\n",
              "        }\n",
              "      </script>\n",
              "    </div>\n",
              "  </div>\n",
              "  "
            ]
          },
          "metadata": {},
          "execution_count": 4
        }
      ],
      "source": [
        "ECom_Data.head(10)\n"
      ]
    },
    {
      "cell_type": "code",
      "source": [
        "ECom_Data.tail(10)"
      ],
      "metadata": {
        "id": "VaLxZ5BoiQCK",
        "colab": {
          "base_uri": "https://localhost:8080/",
          "height": 1000
        },
        "outputId": "98ce8710-923e-45ca-92c2-53601e653dcb"
      },
      "id": "VaLxZ5BoiQCK",
      "execution_count": null,
      "outputs": [
        {
          "output_type": "execute_result",
          "data": {
            "text/plain": [
              "                      Customer_uniq_id Region  Order_Date  \\\n",
              "8896  4db03bc4ccbe216cf151b2f2b904ba3f  East   01-12-2020   \n",
              "8897  4d4d6aeb13fa253499d0dd45a5abd87e   West  01-12-2020   \n",
              "8898  ea19e7ef703293d3f6c799ca9db4642d   West  01-12-2020   \n",
              "8899  19a53a958992fb575acffb5d41e7ef9e  East   01-12-2020   \n",
              "8900  09abab80c8dfdc6f268e0a6f05a0be11  North  01-12-2020   \n",
              "8901  90d30478255e23621e8929ed15c2f6e4  South  01-12-2020   \n",
              "8902  20a73e3f41490a73ceeba5f17658db8f   West  01-12-2020   \n",
              "8903  5c1554cd45f9d538c2c6947dbdd59c75  East   01-12-2020   \n",
              "8904  6b737a4deca1ed0e56c179e66036e994   West  01-12-2020   \n",
              "8905  a5235ac28d3d5487f54025f9d6b57433  North  01-12-2020   \n",
              "\n",
              "     Expected_Delivery_Date Delivered_Date  \\\n",
              "8896             04-12-2020     04-12-2020   \n",
              "8897             04-12-2020     04-12-2020   \n",
              "8898             04-12-2020     04-12-2020   \n",
              "8899             04-12-2020     04-12-2020   \n",
              "8900             04-12-2020     04-12-2020   \n",
              "8901             04-12-2020     04-12-2020   \n",
              "8902             04-12-2020     04-12-2020   \n",
              "8903             04-12-2020     04-12-2020   \n",
              "8904             04-12-2020     04-12-2020   \n",
              "8905             04-12-2020     04-12-2020   \n",
              "\n",
              "                                           product_name product_main_category  \\\n",
              "8896                           Luca Fashion Girls Heels             Footwear    \n",
              "8897                            Shoetopia Girls Sandals             Footwear    \n",
              "8898                        SMART TRADERS Girls Sandals             Footwear    \n",
              "8899                                  Beanz Girls Flats             Footwear    \n",
              "8900                       Nova KT 728S Electric Kettle       Home & Kitchen    \n",
              "8901  Sinina Chanderi Embroidered Salwar Suit Dupatt...             Clothing    \n",
              "8902  Aarushi Fashion Chanderi Embroidered Salwar Su...             Clothing    \n",
              "8903  Ambika Lahenga Embroidered Lehenga, Choli and ...             Clothing    \n",
              "8904  Sinina Chanderi Embroidered Salwar Suit Dupatt...             Clothing    \n",
              "8905  Aarushi Fashion Silk Striped Salwar Suit Dupat...             Clothing    \n",
              "\n",
              "            product_subcategory                product_category_filter  \\\n",
              "8896   Kids' & Infant Footwear                              For Girls    \n",
              "8897   Kids' & Infant Footwear                              For Girls    \n",
              "8898   Kids' & Infant Footwear                              For Girls    \n",
              "8899   Kids' & Infant Footwear                              For Girls    \n",
              "8900        Kitchen Appliances    Electric Jug(heater)/Travel Kettles    \n",
              "8901          Women's Clothing                            Ethnic Wear    \n",
              "8902          Women's Clothing                            Ethnic Wear    \n",
              "8903          Women's Clothing                            Ethnic Wear    \n",
              "8904          Women's Clothing                            Ethnic Wear    \n",
              "8905          Women's Clothing                            Ethnic Wear    \n",
              "\n",
              "                      product_category_subfilter product_unique ID  \\\n",
              "8896                                    Sandals   SNDEHG3DNVBFGAT5   \n",
              "8897                                    Sandals   SNDEG7DRWSX8HFXZ   \n",
              "8898                                    Sandals   SNDEG7MZHHKZ58D2   \n",
              "8899                                    Sandals   SNDEG7DYVFWHZBC4   \n",
              "8900   Nova Electric Jug(heater)/Travel Kettles   EKTDG5C5QSADZZ8J   \n",
              "8901                                     Fabric   FABEGGHHDFMY8BZU   \n",
              "8902                                     Fabric   FABEG8GFDUWRSNU3   \n",
              "8903                             Lehenga Cholis   LEHEGGEHYN4G2RPW   \n",
              "8904                                     Fabric   FABEGGHHGSVCHGFV   \n",
              "8905                                     Fabric   FABEG8GYDAABECZH   \n",
              "\n",
              "      retail_price  discounted_price  product_rating            Brand  \\\n",
              "8896           999               499             4.0     LUCA FASHION   \n",
              "8897           499               399             4.0        SHOETOPIA   \n",
              "8898           999               499             5.0    SMART TRADERS   \n",
              "8899          1299              1299             3.0            BEANZ   \n",
              "8900          3195               699             3.6             NOVA   \n",
              "8901          2980              1490             3.0           SININA   \n",
              "8902          2600              1300             1.0  AARUSHI FASHION   \n",
              "8903         39992             24995             1.0   AMBIKA LAHENGA   \n",
              "8904          2000              1000             3.0           SININA   \n",
              "8905          2800              1350             4.0  AARUSHI FASHION   \n",
              "\n",
              "                                 product_specifications  \\\n",
              "8896  {\"product_specification\"=>[{\"key\"=>\"Occasion\",...   \n",
              "8897  {\"product_specification\"=>[{\"key\"=>\"Ideal For\"...   \n",
              "8898  {\"product_specification\"=>[{\"key\"=>\"Ideal For\"...   \n",
              "8899  {\"product_specification\"=>[{\"key\"=>\"Occasion\",...   \n",
              "8900  {\"product_specification\"=>[{\"key\"=>\"Brand\", \"v...   \n",
              "8901  {\"product_specification\"=>[{\"key\"=>\"Fabric\", \"...   \n",
              "8902  {\"product_specification\"=>[{\"key\"=>\"Fabric\", \"...   \n",
              "8903  {\"product_specification\"=>[{\"key\"=>\"Fabric\", \"...   \n",
              "8904  {\"product_specification\"=>[{\"key\"=>\"Fabric\", \"...   \n",
              "8905  {\"product_specification\"=>[{\"key\"=>\"Fabric\", \"...   \n",
              "\n",
              "                                            description  \n",
              "8896  Key Features of Luca Fashion Girls Heels Occas...  \n",
              "8897  Key Features of Shoetopia Girls Sandals Flats ...  \n",
              "8898  Key Features of SMART TRADERS Girls Sandals Oc...  \n",
              "8899  Key Features of Beanz Girls Flats Occasion: Ca...  \n",
              "8900  Specifications of Nova KT 728S Electric Kettle...  \n",
              "8901  Key Features of Sinina Chanderi Embroidered Sa...  \n",
              "8902  Key Features of Aarushi Fashion Chanderi Embro...  \n",
              "8903  Key Features of Ambika Lahenga Embroidered Leh...  \n",
              "8904  Key Features of Sinina Chanderi Embroidered Sa...  \n",
              "8905  Key Features of Aarushi Fashion Silk Striped S...  "
            ],
            "text/html": [
              "\n",
              "  <div id=\"df-1dc60cb5-99c9-4a56-9349-53d0e6ddac27\">\n",
              "    <div class=\"colab-df-container\">\n",
              "      <div>\n",
              "<style scoped>\n",
              "    .dataframe tbody tr th:only-of-type {\n",
              "        vertical-align: middle;\n",
              "    }\n",
              "\n",
              "    .dataframe tbody tr th {\n",
              "        vertical-align: top;\n",
              "    }\n",
              "\n",
              "    .dataframe thead th {\n",
              "        text-align: right;\n",
              "    }\n",
              "</style>\n",
              "<table border=\"1\" class=\"dataframe\">\n",
              "  <thead>\n",
              "    <tr style=\"text-align: right;\">\n",
              "      <th></th>\n",
              "      <th>Customer_uniq_id</th>\n",
              "      <th>Region</th>\n",
              "      <th>Order_Date</th>\n",
              "      <th>Expected_Delivery_Date</th>\n",
              "      <th>Delivered_Date</th>\n",
              "      <th>product_name</th>\n",
              "      <th>product_main_category</th>\n",
              "      <th>product_subcategory</th>\n",
              "      <th>product_category_filter</th>\n",
              "      <th>product_category_subfilter</th>\n",
              "      <th>product_unique ID</th>\n",
              "      <th>retail_price</th>\n",
              "      <th>discounted_price</th>\n",
              "      <th>product_rating</th>\n",
              "      <th>Brand</th>\n",
              "      <th>product_specifications</th>\n",
              "      <th>description</th>\n",
              "    </tr>\n",
              "  </thead>\n",
              "  <tbody>\n",
              "    <tr>\n",
              "      <th>8896</th>\n",
              "      <td>4db03bc4ccbe216cf151b2f2b904ba3f</td>\n",
              "      <td>East</td>\n",
              "      <td>01-12-2020</td>\n",
              "      <td>04-12-2020</td>\n",
              "      <td>04-12-2020</td>\n",
              "      <td>Luca Fashion Girls Heels</td>\n",
              "      <td>Footwear</td>\n",
              "      <td>Kids' &amp; Infant Footwear</td>\n",
              "      <td>For Girls</td>\n",
              "      <td>Sandals</td>\n",
              "      <td>SNDEHG3DNVBFGAT5</td>\n",
              "      <td>999</td>\n",
              "      <td>499</td>\n",
              "      <td>4.0</td>\n",
              "      <td>LUCA FASHION</td>\n",
              "      <td>{\"product_specification\"=&gt;[{\"key\"=&gt;\"Occasion\",...</td>\n",
              "      <td>Key Features of Luca Fashion Girls Heels Occas...</td>\n",
              "    </tr>\n",
              "    <tr>\n",
              "      <th>8897</th>\n",
              "      <td>4d4d6aeb13fa253499d0dd45a5abd87e</td>\n",
              "      <td>West</td>\n",
              "      <td>01-12-2020</td>\n",
              "      <td>04-12-2020</td>\n",
              "      <td>04-12-2020</td>\n",
              "      <td>Shoetopia Girls Sandals</td>\n",
              "      <td>Footwear</td>\n",
              "      <td>Kids' &amp; Infant Footwear</td>\n",
              "      <td>For Girls</td>\n",
              "      <td>Sandals</td>\n",
              "      <td>SNDEG7DRWSX8HFXZ</td>\n",
              "      <td>499</td>\n",
              "      <td>399</td>\n",
              "      <td>4.0</td>\n",
              "      <td>SHOETOPIA</td>\n",
              "      <td>{\"product_specification\"=&gt;[{\"key\"=&gt;\"Ideal For\"...</td>\n",
              "      <td>Key Features of Shoetopia Girls Sandals Flats ...</td>\n",
              "    </tr>\n",
              "    <tr>\n",
              "      <th>8898</th>\n",
              "      <td>ea19e7ef703293d3f6c799ca9db4642d</td>\n",
              "      <td>West</td>\n",
              "      <td>01-12-2020</td>\n",
              "      <td>04-12-2020</td>\n",
              "      <td>04-12-2020</td>\n",
              "      <td>SMART TRADERS Girls Sandals</td>\n",
              "      <td>Footwear</td>\n",
              "      <td>Kids' &amp; Infant Footwear</td>\n",
              "      <td>For Girls</td>\n",
              "      <td>Sandals</td>\n",
              "      <td>SNDEG7MZHHKZ58D2</td>\n",
              "      <td>999</td>\n",
              "      <td>499</td>\n",
              "      <td>5.0</td>\n",
              "      <td>SMART TRADERS</td>\n",
              "      <td>{\"product_specification\"=&gt;[{\"key\"=&gt;\"Ideal For\"...</td>\n",
              "      <td>Key Features of SMART TRADERS Girls Sandals Oc...</td>\n",
              "    </tr>\n",
              "    <tr>\n",
              "      <th>8899</th>\n",
              "      <td>19a53a958992fb575acffb5d41e7ef9e</td>\n",
              "      <td>East</td>\n",
              "      <td>01-12-2020</td>\n",
              "      <td>04-12-2020</td>\n",
              "      <td>04-12-2020</td>\n",
              "      <td>Beanz Girls Flats</td>\n",
              "      <td>Footwear</td>\n",
              "      <td>Kids' &amp; Infant Footwear</td>\n",
              "      <td>For Girls</td>\n",
              "      <td>Sandals</td>\n",
              "      <td>SNDEG7DYVFWHZBC4</td>\n",
              "      <td>1299</td>\n",
              "      <td>1299</td>\n",
              "      <td>3.0</td>\n",
              "      <td>BEANZ</td>\n",
              "      <td>{\"product_specification\"=&gt;[{\"key\"=&gt;\"Occasion\",...</td>\n",
              "      <td>Key Features of Beanz Girls Flats Occasion: Ca...</td>\n",
              "    </tr>\n",
              "    <tr>\n",
              "      <th>8900</th>\n",
              "      <td>09abab80c8dfdc6f268e0a6f05a0be11</td>\n",
              "      <td>North</td>\n",
              "      <td>01-12-2020</td>\n",
              "      <td>04-12-2020</td>\n",
              "      <td>04-12-2020</td>\n",
              "      <td>Nova KT 728S Electric Kettle</td>\n",
              "      <td>Home &amp; Kitchen</td>\n",
              "      <td>Kitchen Appliances</td>\n",
              "      <td>Electric Jug(heater)/Travel Kettles</td>\n",
              "      <td>Nova Electric Jug(heater)/Travel Kettles</td>\n",
              "      <td>EKTDG5C5QSADZZ8J</td>\n",
              "      <td>3195</td>\n",
              "      <td>699</td>\n",
              "      <td>3.6</td>\n",
              "      <td>NOVA</td>\n",
              "      <td>{\"product_specification\"=&gt;[{\"key\"=&gt;\"Brand\", \"v...</td>\n",
              "      <td>Specifications of Nova KT 728S Electric Kettle...</td>\n",
              "    </tr>\n",
              "    <tr>\n",
              "      <th>8901</th>\n",
              "      <td>90d30478255e23621e8929ed15c2f6e4</td>\n",
              "      <td>South</td>\n",
              "      <td>01-12-2020</td>\n",
              "      <td>04-12-2020</td>\n",
              "      <td>04-12-2020</td>\n",
              "      <td>Sinina Chanderi Embroidered Salwar Suit Dupatt...</td>\n",
              "      <td>Clothing</td>\n",
              "      <td>Women's Clothing</td>\n",
              "      <td>Ethnic Wear</td>\n",
              "      <td>Fabric</td>\n",
              "      <td>FABEGGHHDFMY8BZU</td>\n",
              "      <td>2980</td>\n",
              "      <td>1490</td>\n",
              "      <td>3.0</td>\n",
              "      <td>SININA</td>\n",
              "      <td>{\"product_specification\"=&gt;[{\"key\"=&gt;\"Fabric\", \"...</td>\n",
              "      <td>Key Features of Sinina Chanderi Embroidered Sa...</td>\n",
              "    </tr>\n",
              "    <tr>\n",
              "      <th>8902</th>\n",
              "      <td>20a73e3f41490a73ceeba5f17658db8f</td>\n",
              "      <td>West</td>\n",
              "      <td>01-12-2020</td>\n",
              "      <td>04-12-2020</td>\n",
              "      <td>04-12-2020</td>\n",
              "      <td>Aarushi Fashion Chanderi Embroidered Salwar Su...</td>\n",
              "      <td>Clothing</td>\n",
              "      <td>Women's Clothing</td>\n",
              "      <td>Ethnic Wear</td>\n",
              "      <td>Fabric</td>\n",
              "      <td>FABEG8GFDUWRSNU3</td>\n",
              "      <td>2600</td>\n",
              "      <td>1300</td>\n",
              "      <td>1.0</td>\n",
              "      <td>AARUSHI FASHION</td>\n",
              "      <td>{\"product_specification\"=&gt;[{\"key\"=&gt;\"Fabric\", \"...</td>\n",
              "      <td>Key Features of Aarushi Fashion Chanderi Embro...</td>\n",
              "    </tr>\n",
              "    <tr>\n",
              "      <th>8903</th>\n",
              "      <td>5c1554cd45f9d538c2c6947dbdd59c75</td>\n",
              "      <td>East</td>\n",
              "      <td>01-12-2020</td>\n",
              "      <td>04-12-2020</td>\n",
              "      <td>04-12-2020</td>\n",
              "      <td>Ambika Lahenga Embroidered Lehenga, Choli and ...</td>\n",
              "      <td>Clothing</td>\n",
              "      <td>Women's Clothing</td>\n",
              "      <td>Ethnic Wear</td>\n",
              "      <td>Lehenga Cholis</td>\n",
              "      <td>LEHEGGEHYN4G2RPW</td>\n",
              "      <td>39992</td>\n",
              "      <td>24995</td>\n",
              "      <td>1.0</td>\n",
              "      <td>AMBIKA LAHENGA</td>\n",
              "      <td>{\"product_specification\"=&gt;[{\"key\"=&gt;\"Fabric\", \"...</td>\n",
              "      <td>Key Features of Ambika Lahenga Embroidered Leh...</td>\n",
              "    </tr>\n",
              "    <tr>\n",
              "      <th>8904</th>\n",
              "      <td>6b737a4deca1ed0e56c179e66036e994</td>\n",
              "      <td>West</td>\n",
              "      <td>01-12-2020</td>\n",
              "      <td>04-12-2020</td>\n",
              "      <td>04-12-2020</td>\n",
              "      <td>Sinina Chanderi Embroidered Salwar Suit Dupatt...</td>\n",
              "      <td>Clothing</td>\n",
              "      <td>Women's Clothing</td>\n",
              "      <td>Ethnic Wear</td>\n",
              "      <td>Fabric</td>\n",
              "      <td>FABEGGHHGSVCHGFV</td>\n",
              "      <td>2000</td>\n",
              "      <td>1000</td>\n",
              "      <td>3.0</td>\n",
              "      <td>SININA</td>\n",
              "      <td>{\"product_specification\"=&gt;[{\"key\"=&gt;\"Fabric\", \"...</td>\n",
              "      <td>Key Features of Sinina Chanderi Embroidered Sa...</td>\n",
              "    </tr>\n",
              "    <tr>\n",
              "      <th>8905</th>\n",
              "      <td>a5235ac28d3d5487f54025f9d6b57433</td>\n",
              "      <td>North</td>\n",
              "      <td>01-12-2020</td>\n",
              "      <td>04-12-2020</td>\n",
              "      <td>04-12-2020</td>\n",
              "      <td>Aarushi Fashion Silk Striped Salwar Suit Dupat...</td>\n",
              "      <td>Clothing</td>\n",
              "      <td>Women's Clothing</td>\n",
              "      <td>Ethnic Wear</td>\n",
              "      <td>Fabric</td>\n",
              "      <td>FABEG8GYDAABECZH</td>\n",
              "      <td>2800</td>\n",
              "      <td>1350</td>\n",
              "      <td>4.0</td>\n",
              "      <td>AARUSHI FASHION</td>\n",
              "      <td>{\"product_specification\"=&gt;[{\"key\"=&gt;\"Fabric\", \"...</td>\n",
              "      <td>Key Features of Aarushi Fashion Silk Striped S...</td>\n",
              "    </tr>\n",
              "  </tbody>\n",
              "</table>\n",
              "</div>\n",
              "      <button class=\"colab-df-convert\" onclick=\"convertToInteractive('df-1dc60cb5-99c9-4a56-9349-53d0e6ddac27')\"\n",
              "              title=\"Convert this dataframe to an interactive table.\"\n",
              "              style=\"display:none;\">\n",
              "        \n",
              "  <svg xmlns=\"http://www.w3.org/2000/svg\" height=\"24px\"viewBox=\"0 0 24 24\"\n",
              "       width=\"24px\">\n",
              "    <path d=\"M0 0h24v24H0V0z\" fill=\"none\"/>\n",
              "    <path d=\"M18.56 5.44l.94 2.06.94-2.06 2.06-.94-2.06-.94-.94-2.06-.94 2.06-2.06.94zm-11 1L8.5 8.5l.94-2.06 2.06-.94-2.06-.94L8.5 2.5l-.94 2.06-2.06.94zm10 10l.94 2.06.94-2.06 2.06-.94-2.06-.94-.94-2.06-.94 2.06-2.06.94z\"/><path d=\"M17.41 7.96l-1.37-1.37c-.4-.4-.92-.59-1.43-.59-.52 0-1.04.2-1.43.59L10.3 9.45l-7.72 7.72c-.78.78-.78 2.05 0 2.83L4 21.41c.39.39.9.59 1.41.59.51 0 1.02-.2 1.41-.59l7.78-7.78 2.81-2.81c.8-.78.8-2.07 0-2.86zM5.41 20L4 18.59l7.72-7.72 1.47 1.35L5.41 20z\"/>\n",
              "  </svg>\n",
              "      </button>\n",
              "      \n",
              "  <style>\n",
              "    .colab-df-container {\n",
              "      display:flex;\n",
              "      flex-wrap:wrap;\n",
              "      gap: 12px;\n",
              "    }\n",
              "\n",
              "    .colab-df-convert {\n",
              "      background-color: #E8F0FE;\n",
              "      border: none;\n",
              "      border-radius: 50%;\n",
              "      cursor: pointer;\n",
              "      display: none;\n",
              "      fill: #1967D2;\n",
              "      height: 32px;\n",
              "      padding: 0 0 0 0;\n",
              "      width: 32px;\n",
              "    }\n",
              "\n",
              "    .colab-df-convert:hover {\n",
              "      background-color: #E2EBFA;\n",
              "      box-shadow: 0px 1px 2px rgba(60, 64, 67, 0.3), 0px 1px 3px 1px rgba(60, 64, 67, 0.15);\n",
              "      fill: #174EA6;\n",
              "    }\n",
              "\n",
              "    [theme=dark] .colab-df-convert {\n",
              "      background-color: #3B4455;\n",
              "      fill: #D2E3FC;\n",
              "    }\n",
              "\n",
              "    [theme=dark] .colab-df-convert:hover {\n",
              "      background-color: #434B5C;\n",
              "      box-shadow: 0px 1px 3px 1px rgba(0, 0, 0, 0.15);\n",
              "      filter: drop-shadow(0px 1px 2px rgba(0, 0, 0, 0.3));\n",
              "      fill: #FFFFFF;\n",
              "    }\n",
              "  </style>\n",
              "\n",
              "      <script>\n",
              "        const buttonEl =\n",
              "          document.querySelector('#df-1dc60cb5-99c9-4a56-9349-53d0e6ddac27 button.colab-df-convert');\n",
              "        buttonEl.style.display =\n",
              "          google.colab.kernel.accessAllowed ? 'block' : 'none';\n",
              "\n",
              "        async function convertToInteractive(key) {\n",
              "          const element = document.querySelector('#df-1dc60cb5-99c9-4a56-9349-53d0e6ddac27');\n",
              "          const dataTable =\n",
              "            await google.colab.kernel.invokeFunction('convertToInteractive',\n",
              "                                                     [key], {});\n",
              "          if (!dataTable) return;\n",
              "\n",
              "          const docLinkHtml = 'Like what you see? Visit the ' +\n",
              "            '<a target=\"_blank\" href=https://colab.research.google.com/notebooks/data_table.ipynb>data table notebook</a>'\n",
              "            + ' to learn more about interactive tables.';\n",
              "          element.innerHTML = '';\n",
              "          dataTable['output_type'] = 'display_data';\n",
              "          await google.colab.output.renderOutput(dataTable, element);\n",
              "          const docLink = document.createElement('div');\n",
              "          docLink.innerHTML = docLinkHtml;\n",
              "          element.appendChild(docLink);\n",
              "        }\n",
              "      </script>\n",
              "    </div>\n",
              "  </div>\n",
              "  "
            ]
          },
          "metadata": {},
          "execution_count": 5
        }
      ]
    },
    {
      "cell_type": "markdown",
      "id": "48baeda6",
      "metadata": {
        "id": "48baeda6"
      },
      "source": [
        "#### Ans 1 b)"
      ]
    },
    {
      "cell_type": "code",
      "execution_count": null,
      "id": "0ac3ef5d",
      "metadata": {
        "id": "0ac3ef5d",
        "colab": {
          "base_uri": "https://localhost:8080/"
        },
        "outputId": "7a1b8c19-beb1-4174-d228-f8bb10634129"
      },
      "outputs": [
        {
          "output_type": "stream",
          "name": "stdout",
          "text": [
            "<class 'pandas.core.frame.DataFrame'>\n",
            "RangeIndex: 8906 entries, 0 to 8905\n",
            "Data columns (total 17 columns):\n",
            " #   Column                      Non-Null Count  Dtype  \n",
            "---  ------                      --------------  -----  \n",
            " 0   Customer_uniq_id            8906 non-null   object \n",
            " 1   Region                      8906 non-null   object \n",
            " 2   Order_Date                  8906 non-null   object \n",
            " 3   Expected_Delivery_Date      8906 non-null   object \n",
            " 4   Delivered_Date              8906 non-null   object \n",
            " 5   product_name                8906 non-null   object \n",
            " 6   product_main_category       8906 non-null   object \n",
            " 7   product_subcategory         8906 non-null   object \n",
            " 8   product_category_filter     8906 non-null   object \n",
            " 9   product_category_subfilter  8906 non-null   object \n",
            " 10  product_unique ID           8906 non-null   object \n",
            " 11  retail_price                8906 non-null   int64  \n",
            " 12  discounted_price            8906 non-null   int64  \n",
            " 13  product_rating              8906 non-null   float64\n",
            " 14  Brand                       8906 non-null   object \n",
            " 15  product_specifications      8906 non-null   object \n",
            " 16  description                 8906 non-null   object \n",
            "dtypes: float64(1), int64(2), object(14)\n",
            "memory usage: 1.2+ MB\n"
          ]
        }
      ],
      "source": [
        "\n",
        "ECom_Data.info()"
      ]
    },
    {
      "cell_type": "code",
      "source": [
        "ECom_Data.shape "
      ],
      "metadata": {
        "colab": {
          "base_uri": "https://localhost:8080/"
        },
        "id": "5ObQ9RpLmk0Y",
        "outputId": "3d8c3891-7a75-4dce-f38a-4eba830f8813"
      },
      "id": "5ObQ9RpLmk0Y",
      "execution_count": null,
      "outputs": [
        {
          "output_type": "execute_result",
          "data": {
            "text/plain": [
              "(8906, 17)"
            ]
          },
          "metadata": {},
          "execution_count": 7
        }
      ]
    },
    {
      "cell_type": "markdown",
      "source": [
        "17 columns  and 8906 rows."
      ],
      "metadata": {
        "id": "OGFUZGDErV3O"
      },
      "id": "OGFUZGDErV3O"
    },
    {
      "cell_type": "markdown",
      "id": "6aaa54a0",
      "metadata": {
        "id": "6aaa54a0"
      },
      "source": [
        "#### Ans  1 c)"
      ]
    },
    {
      "cell_type": "markdown",
      "source": [
        "there are total 12 object dataype "
      ],
      "metadata": {
        "id": "UnN7rvRyp51Y"
      },
      "id": "UnN7rvRyp51Y"
    },
    {
      "cell_type": "markdown",
      "id": "5e63573c",
      "metadata": {
        "id": "5e63573c"
      },
      "source": [
        "### Ans 1 d)"
      ]
    },
    {
      "cell_type": "code",
      "source": [
        "ECom_Data.dtypes"
      ],
      "metadata": {
        "colab": {
          "base_uri": "https://localhost:8080/"
        },
        "id": "2d38nEBlkLbq",
        "outputId": "3ecadefe-2ed0-453f-e803-2f8941ef831f"
      },
      "id": "2d38nEBlkLbq",
      "execution_count": null,
      "outputs": [
        {
          "output_type": "execute_result",
          "data": {
            "text/plain": [
              "Customer_uniq_id           object\n",
              "Region                     object\n",
              "Order_Date                 object\n",
              "Expected_Delivery_Date     object\n",
              "Delivered_Date             object\n",
              "                           ...   \n",
              "discounted_price            int64\n",
              "product_rating            float64\n",
              "Brand                      object\n",
              "product_specifications     object\n",
              "description                object\n",
              "Length: 17, dtype: object"
            ]
          },
          "metadata": {},
          "execution_count": 8
        }
      ]
    },
    {
      "cell_type": "markdown",
      "source": [
        "There is no boolean data type present "
      ],
      "metadata": {
        "id": "h64KsrNHqEol"
      },
      "id": "h64KsrNHqEol"
    },
    {
      "cell_type": "code",
      "source": [
        "ECom_Data==True"
      ],
      "metadata": {
        "colab": {
          "base_uri": "https://localhost:8080/",
          "height": 505
        },
        "id": "QimnVG-DYEfP",
        "outputId": "f8ee0f9e-ed2e-4d49-9347-5880d8f4c2cf"
      },
      "id": "QimnVG-DYEfP",
      "execution_count": null,
      "outputs": [
        {
          "output_type": "execute_result",
          "data": {
            "text/plain": [
              "      Customer_uniq_id  Region  Order_Date  Expected_Delivery_Date  \\\n",
              "0                False   False       False                   False   \n",
              "1                False   False       False                   False   \n",
              "2                False   False       False                   False   \n",
              "3                False   False       False                   False   \n",
              "4                False   False       False                   False   \n",
              "...                ...     ...         ...                     ...   \n",
              "8901             False   False       False                   False   \n",
              "8902             False   False       False                   False   \n",
              "8903             False   False       False                   False   \n",
              "8904             False   False       False                   False   \n",
              "8905             False   False       False                   False   \n",
              "\n",
              "      Delivered_Date  product_name  product_main_category  \\\n",
              "0              False         False                  False   \n",
              "1              False         False                  False   \n",
              "2              False         False                  False   \n",
              "3              False         False                  False   \n",
              "4              False         False                  False   \n",
              "...              ...           ...                    ...   \n",
              "8901           False         False                  False   \n",
              "8902           False         False                  False   \n",
              "8903           False         False                  False   \n",
              "8904           False         False                  False   \n",
              "8905           False         False                  False   \n",
              "\n",
              "      product_subcategory  product_category_filter  \\\n",
              "0                   False                    False   \n",
              "1                   False                    False   \n",
              "2                   False                    False   \n",
              "3                   False                    False   \n",
              "4                   False                    False   \n",
              "...                   ...                      ...   \n",
              "8901                False                    False   \n",
              "8902                False                    False   \n",
              "8903                False                    False   \n",
              "8904                False                    False   \n",
              "8905                False                    False   \n",
              "\n",
              "      product_category_subfilter  product_unique ID  retail_price  \\\n",
              "0                          False              False         False   \n",
              "1                          False              False         False   \n",
              "2                          False              False         False   \n",
              "3                          False              False         False   \n",
              "4                          False              False         False   \n",
              "...                          ...                ...           ...   \n",
              "8901                       False              False         False   \n",
              "8902                       False              False         False   \n",
              "8903                       False              False         False   \n",
              "8904                       False              False         False   \n",
              "8905                       False              False         False   \n",
              "\n",
              "      discounted_price  product_rating  Brand  product_specifications  \\\n",
              "0                False           False  False                   False   \n",
              "1                False            True  False                   False   \n",
              "2                False           False  False                   False   \n",
              "3                False           False  False                   False   \n",
              "4                False           False  False                   False   \n",
              "...                ...             ...    ...                     ...   \n",
              "8901             False           False  False                   False   \n",
              "8902             False            True  False                   False   \n",
              "8903             False            True  False                   False   \n",
              "8904             False           False  False                   False   \n",
              "8905             False           False  False                   False   \n",
              "\n",
              "      description  \n",
              "0           False  \n",
              "1           False  \n",
              "2           False  \n",
              "3           False  \n",
              "4           False  \n",
              "...           ...  \n",
              "8901        False  \n",
              "8902        False  \n",
              "8903        False  \n",
              "8904        False  \n",
              "8905        False  \n",
              "\n",
              "[8906 rows x 17 columns]"
            ],
            "text/html": [
              "\n",
              "  <div id=\"df-dc08bbf4-7641-46d1-bf9d-3a2d90a4ce83\">\n",
              "    <div class=\"colab-df-container\">\n",
              "      <div>\n",
              "<style scoped>\n",
              "    .dataframe tbody tr th:only-of-type {\n",
              "        vertical-align: middle;\n",
              "    }\n",
              "\n",
              "    .dataframe tbody tr th {\n",
              "        vertical-align: top;\n",
              "    }\n",
              "\n",
              "    .dataframe thead th {\n",
              "        text-align: right;\n",
              "    }\n",
              "</style>\n",
              "<table border=\"1\" class=\"dataframe\">\n",
              "  <thead>\n",
              "    <tr style=\"text-align: right;\">\n",
              "      <th></th>\n",
              "      <th>Customer_uniq_id</th>\n",
              "      <th>Region</th>\n",
              "      <th>Order_Date</th>\n",
              "      <th>Expected_Delivery_Date</th>\n",
              "      <th>Delivered_Date</th>\n",
              "      <th>product_name</th>\n",
              "      <th>product_main_category</th>\n",
              "      <th>product_subcategory</th>\n",
              "      <th>product_category_filter</th>\n",
              "      <th>product_category_subfilter</th>\n",
              "      <th>product_unique ID</th>\n",
              "      <th>retail_price</th>\n",
              "      <th>discounted_price</th>\n",
              "      <th>product_rating</th>\n",
              "      <th>Brand</th>\n",
              "      <th>product_specifications</th>\n",
              "      <th>description</th>\n",
              "    </tr>\n",
              "  </thead>\n",
              "  <tbody>\n",
              "    <tr>\n",
              "      <th>0</th>\n",
              "      <td>False</td>\n",
              "      <td>False</td>\n",
              "      <td>False</td>\n",
              "      <td>False</td>\n",
              "      <td>False</td>\n",
              "      <td>False</td>\n",
              "      <td>False</td>\n",
              "      <td>False</td>\n",
              "      <td>False</td>\n",
              "      <td>False</td>\n",
              "      <td>False</td>\n",
              "      <td>False</td>\n",
              "      <td>False</td>\n",
              "      <td>False</td>\n",
              "      <td>False</td>\n",
              "      <td>False</td>\n",
              "      <td>False</td>\n",
              "    </tr>\n",
              "    <tr>\n",
              "      <th>1</th>\n",
              "      <td>False</td>\n",
              "      <td>False</td>\n",
              "      <td>False</td>\n",
              "      <td>False</td>\n",
              "      <td>False</td>\n",
              "      <td>False</td>\n",
              "      <td>False</td>\n",
              "      <td>False</td>\n",
              "      <td>False</td>\n",
              "      <td>False</td>\n",
              "      <td>False</td>\n",
              "      <td>False</td>\n",
              "      <td>False</td>\n",
              "      <td>True</td>\n",
              "      <td>False</td>\n",
              "      <td>False</td>\n",
              "      <td>False</td>\n",
              "    </tr>\n",
              "    <tr>\n",
              "      <th>2</th>\n",
              "      <td>False</td>\n",
              "      <td>False</td>\n",
              "      <td>False</td>\n",
              "      <td>False</td>\n",
              "      <td>False</td>\n",
              "      <td>False</td>\n",
              "      <td>False</td>\n",
              "      <td>False</td>\n",
              "      <td>False</td>\n",
              "      <td>False</td>\n",
              "      <td>False</td>\n",
              "      <td>False</td>\n",
              "      <td>False</td>\n",
              "      <td>False</td>\n",
              "      <td>False</td>\n",
              "      <td>False</td>\n",
              "      <td>False</td>\n",
              "    </tr>\n",
              "    <tr>\n",
              "      <th>3</th>\n",
              "      <td>False</td>\n",
              "      <td>False</td>\n",
              "      <td>False</td>\n",
              "      <td>False</td>\n",
              "      <td>False</td>\n",
              "      <td>False</td>\n",
              "      <td>False</td>\n",
              "      <td>False</td>\n",
              "      <td>False</td>\n",
              "      <td>False</td>\n",
              "      <td>False</td>\n",
              "      <td>False</td>\n",
              "      <td>False</td>\n",
              "      <td>False</td>\n",
              "      <td>False</td>\n",
              "      <td>False</td>\n",
              "      <td>False</td>\n",
              "    </tr>\n",
              "    <tr>\n",
              "      <th>4</th>\n",
              "      <td>False</td>\n",
              "      <td>False</td>\n",
              "      <td>False</td>\n",
              "      <td>False</td>\n",
              "      <td>False</td>\n",
              "      <td>False</td>\n",
              "      <td>False</td>\n",
              "      <td>False</td>\n",
              "      <td>False</td>\n",
              "      <td>False</td>\n",
              "      <td>False</td>\n",
              "      <td>False</td>\n",
              "      <td>False</td>\n",
              "      <td>False</td>\n",
              "      <td>False</td>\n",
              "      <td>False</td>\n",
              "      <td>False</td>\n",
              "    </tr>\n",
              "    <tr>\n",
              "      <th>...</th>\n",
              "      <td>...</td>\n",
              "      <td>...</td>\n",
              "      <td>...</td>\n",
              "      <td>...</td>\n",
              "      <td>...</td>\n",
              "      <td>...</td>\n",
              "      <td>...</td>\n",
              "      <td>...</td>\n",
              "      <td>...</td>\n",
              "      <td>...</td>\n",
              "      <td>...</td>\n",
              "      <td>...</td>\n",
              "      <td>...</td>\n",
              "      <td>...</td>\n",
              "      <td>...</td>\n",
              "      <td>...</td>\n",
              "      <td>...</td>\n",
              "    </tr>\n",
              "    <tr>\n",
              "      <th>8901</th>\n",
              "      <td>False</td>\n",
              "      <td>False</td>\n",
              "      <td>False</td>\n",
              "      <td>False</td>\n",
              "      <td>False</td>\n",
              "      <td>False</td>\n",
              "      <td>False</td>\n",
              "      <td>False</td>\n",
              "      <td>False</td>\n",
              "      <td>False</td>\n",
              "      <td>False</td>\n",
              "      <td>False</td>\n",
              "      <td>False</td>\n",
              "      <td>False</td>\n",
              "      <td>False</td>\n",
              "      <td>False</td>\n",
              "      <td>False</td>\n",
              "    </tr>\n",
              "    <tr>\n",
              "      <th>8902</th>\n",
              "      <td>False</td>\n",
              "      <td>False</td>\n",
              "      <td>False</td>\n",
              "      <td>False</td>\n",
              "      <td>False</td>\n",
              "      <td>False</td>\n",
              "      <td>False</td>\n",
              "      <td>False</td>\n",
              "      <td>False</td>\n",
              "      <td>False</td>\n",
              "      <td>False</td>\n",
              "      <td>False</td>\n",
              "      <td>False</td>\n",
              "      <td>True</td>\n",
              "      <td>False</td>\n",
              "      <td>False</td>\n",
              "      <td>False</td>\n",
              "    </tr>\n",
              "    <tr>\n",
              "      <th>8903</th>\n",
              "      <td>False</td>\n",
              "      <td>False</td>\n",
              "      <td>False</td>\n",
              "      <td>False</td>\n",
              "      <td>False</td>\n",
              "      <td>False</td>\n",
              "      <td>False</td>\n",
              "      <td>False</td>\n",
              "      <td>False</td>\n",
              "      <td>False</td>\n",
              "      <td>False</td>\n",
              "      <td>False</td>\n",
              "      <td>False</td>\n",
              "      <td>True</td>\n",
              "      <td>False</td>\n",
              "      <td>False</td>\n",
              "      <td>False</td>\n",
              "    </tr>\n",
              "    <tr>\n",
              "      <th>8904</th>\n",
              "      <td>False</td>\n",
              "      <td>False</td>\n",
              "      <td>False</td>\n",
              "      <td>False</td>\n",
              "      <td>False</td>\n",
              "      <td>False</td>\n",
              "      <td>False</td>\n",
              "      <td>False</td>\n",
              "      <td>False</td>\n",
              "      <td>False</td>\n",
              "      <td>False</td>\n",
              "      <td>False</td>\n",
              "      <td>False</td>\n",
              "      <td>False</td>\n",
              "      <td>False</td>\n",
              "      <td>False</td>\n",
              "      <td>False</td>\n",
              "    </tr>\n",
              "    <tr>\n",
              "      <th>8905</th>\n",
              "      <td>False</td>\n",
              "      <td>False</td>\n",
              "      <td>False</td>\n",
              "      <td>False</td>\n",
              "      <td>False</td>\n",
              "      <td>False</td>\n",
              "      <td>False</td>\n",
              "      <td>False</td>\n",
              "      <td>False</td>\n",
              "      <td>False</td>\n",
              "      <td>False</td>\n",
              "      <td>False</td>\n",
              "      <td>False</td>\n",
              "      <td>False</td>\n",
              "      <td>False</td>\n",
              "      <td>False</td>\n",
              "      <td>False</td>\n",
              "    </tr>\n",
              "  </tbody>\n",
              "</table>\n",
              "<p>8906 rows × 17 columns</p>\n",
              "</div>\n",
              "      <button class=\"colab-df-convert\" onclick=\"convertToInteractive('df-dc08bbf4-7641-46d1-bf9d-3a2d90a4ce83')\"\n",
              "              title=\"Convert this dataframe to an interactive table.\"\n",
              "              style=\"display:none;\">\n",
              "        \n",
              "  <svg xmlns=\"http://www.w3.org/2000/svg\" height=\"24px\"viewBox=\"0 0 24 24\"\n",
              "       width=\"24px\">\n",
              "    <path d=\"M0 0h24v24H0V0z\" fill=\"none\"/>\n",
              "    <path d=\"M18.56 5.44l.94 2.06.94-2.06 2.06-.94-2.06-.94-.94-2.06-.94 2.06-2.06.94zm-11 1L8.5 8.5l.94-2.06 2.06-.94-2.06-.94L8.5 2.5l-.94 2.06-2.06.94zm10 10l.94 2.06.94-2.06 2.06-.94-2.06-.94-.94-2.06-.94 2.06-2.06.94z\"/><path d=\"M17.41 7.96l-1.37-1.37c-.4-.4-.92-.59-1.43-.59-.52 0-1.04.2-1.43.59L10.3 9.45l-7.72 7.72c-.78.78-.78 2.05 0 2.83L4 21.41c.39.39.9.59 1.41.59.51 0 1.02-.2 1.41-.59l7.78-7.78 2.81-2.81c.8-.78.8-2.07 0-2.86zM5.41 20L4 18.59l7.72-7.72 1.47 1.35L5.41 20z\"/>\n",
              "  </svg>\n",
              "      </button>\n",
              "      \n",
              "  <style>\n",
              "    .colab-df-container {\n",
              "      display:flex;\n",
              "      flex-wrap:wrap;\n",
              "      gap: 12px;\n",
              "    }\n",
              "\n",
              "    .colab-df-convert {\n",
              "      background-color: #E8F0FE;\n",
              "      border: none;\n",
              "      border-radius: 50%;\n",
              "      cursor: pointer;\n",
              "      display: none;\n",
              "      fill: #1967D2;\n",
              "      height: 32px;\n",
              "      padding: 0 0 0 0;\n",
              "      width: 32px;\n",
              "    }\n",
              "\n",
              "    .colab-df-convert:hover {\n",
              "      background-color: #E2EBFA;\n",
              "      box-shadow: 0px 1px 2px rgba(60, 64, 67, 0.3), 0px 1px 3px 1px rgba(60, 64, 67, 0.15);\n",
              "      fill: #174EA6;\n",
              "    }\n",
              "\n",
              "    [theme=dark] .colab-df-convert {\n",
              "      background-color: #3B4455;\n",
              "      fill: #D2E3FC;\n",
              "    }\n",
              "\n",
              "    [theme=dark] .colab-df-convert:hover {\n",
              "      background-color: #434B5C;\n",
              "      box-shadow: 0px 1px 3px 1px rgba(0, 0, 0, 0.15);\n",
              "      filter: drop-shadow(0px 1px 2px rgba(0, 0, 0, 0.3));\n",
              "      fill: #FFFFFF;\n",
              "    }\n",
              "  </style>\n",
              "\n",
              "      <script>\n",
              "        const buttonEl =\n",
              "          document.querySelector('#df-dc08bbf4-7641-46d1-bf9d-3a2d90a4ce83 button.colab-df-convert');\n",
              "        buttonEl.style.display =\n",
              "          google.colab.kernel.accessAllowed ? 'block' : 'none';\n",
              "\n",
              "        async function convertToInteractive(key) {\n",
              "          const element = document.querySelector('#df-dc08bbf4-7641-46d1-bf9d-3a2d90a4ce83');\n",
              "          const dataTable =\n",
              "            await google.colab.kernel.invokeFunction('convertToInteractive',\n",
              "                                                     [key], {});\n",
              "          if (!dataTable) return;\n",
              "\n",
              "          const docLinkHtml = 'Like what you see? Visit the ' +\n",
              "            '<a target=\"_blank\" href=https://colab.research.google.com/notebooks/data_table.ipynb>data table notebook</a>'\n",
              "            + ' to learn more about interactive tables.';\n",
              "          element.innerHTML = '';\n",
              "          dataTable['output_type'] = 'display_data';\n",
              "          await google.colab.output.renderOutput(dataTable, element);\n",
              "          const docLink = document.createElement('div');\n",
              "          docLink.innerHTML = docLinkHtml;\n",
              "          element.appendChild(docLink);\n",
              "        }\n",
              "      </script>\n",
              "    </div>\n",
              "  </div>\n",
              "  "
            ]
          },
          "metadata": {},
          "execution_count": 9
        }
      ]
    },
    {
      "cell_type": "markdown",
      "source": [
        "There are boolean datatype availble "
      ],
      "metadata": {
        "id": "451yaopdBx8y"
      },
      "id": "451yaopdBx8y"
    },
    {
      "cell_type": "markdown",
      "id": "cc5d76f1",
      "metadata": {
        "id": "cc5d76f1"
      },
      "source": [
        "<font color='blue'>\n",
        "    <font size = 5>\n",
        " Once you are familiar with the data, you may decide that not all features are of use to you and you may want to delete the non-informative features (columns)</font>"
      ]
    },
    {
      "cell_type": "markdown",
      "id": "90db65ce",
      "metadata": {
        "id": "90db65ce"
      },
      "source": [
        "## Q 2.\tEliminating the non-informative columns.\n",
        "## a)\tDrop the columns product_specifications and description. (2 marks) \n",
        "## b)\tWhich method or function is used to permanently delete the columns mentioned in part (a)? Write the code explicitly (2 marks)\n",
        "### Note: Use the markdown feature of Python to explain your answer.\n"
      ]
    },
    {
      "cell_type": "markdown",
      "id": "e0e7e762",
      "metadata": {
        "id": "e0e7e762"
      },
      "source": [
        "### Ans 2 a)"
      ]
    },
    {
      "cell_type": "code",
      "execution_count": null,
      "id": "35ad0821",
      "metadata": {
        "id": "35ad0821",
        "colab": {
          "base_uri": "https://localhost:8080/",
          "height": 1000
        },
        "outputId": "12ba2850-ded8-480b-ac8c-7a3d235101d4"
      },
      "outputs": [
        {
          "output_type": "execute_result",
          "data": {
            "text/plain": [
              "                      Customer_uniq_id Region  Order_Date  \\\n",
              "0     e71017e224688489edfe856f2308806d  East   24-10-2021   \n",
              "1     6286847ee2da18f587503db49511c539  East   24-10-2021   \n",
              "2     0686fec9b70e5039583a38119ca0c835   West  24-10-2021   \n",
              "3     ea2406dc597bee2abb6b867fa668501f   West  24-10-2021   \n",
              "4     5935ed077915347dc695744df68c565c  East   03-09-2021   \n",
              "...                                ...    ...         ...   \n",
              "8901  90d30478255e23621e8929ed15c2f6e4  South  01-12-2020   \n",
              "8902  20a73e3f41490a73ceeba5f17658db8f   West  01-12-2020   \n",
              "8903  5c1554cd45f9d538c2c6947dbdd59c75  East   01-12-2020   \n",
              "8904  6b737a4deca1ed0e56c179e66036e994   West  01-12-2020   \n",
              "8905  a5235ac28d3d5487f54025f9d6b57433  North  01-12-2020   \n",
              "\n",
              "     Expected_Delivery_Date Delivered_Date  \\\n",
              "0                25-10-2021     25-10-2021   \n",
              "1                25-10-2021     25-10-2021   \n",
              "2                25-10-2021     25-10-2021   \n",
              "3                25-10-2021     25-10-2021   \n",
              "4                04-09-2021     04-09-2021   \n",
              "...                     ...            ...   \n",
              "8901             04-12-2020     04-12-2020   \n",
              "8902             04-12-2020     04-12-2020   \n",
              "8903             04-12-2020     04-12-2020   \n",
              "8904             04-12-2020     04-12-2020   \n",
              "8905             04-12-2020     04-12-2020   \n",
              "\n",
              "                                           product_name product_main_category  \\\n",
              "0     Indcrown Net Embroidered Semi-stitched Lehenga...             Clothing    \n",
              "1         Shopmania Music Band A5 Notebook Spiral Bound    Pens & Stationery    \n",
              "2         Shopmania Music Band A5 Notebook Spiral Bound    Pens & Stationery    \n",
              "3     Tiara Diaries 2016-2017 Designer LA Kaarta \"TA...    Pens & Stationery    \n",
              "4                   KAJCI Embroidered Women's Waistcoat             Clothing    \n",
              "...                                                 ...                   ...   \n",
              "8901  Sinina Chanderi Embroidered Salwar Suit Dupatt...             Clothing    \n",
              "8902  Aarushi Fashion Chanderi Embroidered Salwar Su...             Clothing    \n",
              "8903  Ambika Lahenga Embroidered Lehenga, Choli and ...             Clothing    \n",
              "8904  Sinina Chanderi Embroidered Salwar Suit Dupatt...             Clothing    \n",
              "8905  Aarushi Fashion Silk Striped Salwar Suit Dupat...             Clothing    \n",
              "\n",
              "        product_subcategory product_category_filter  \\\n",
              "0         Women's Clothing             Ethnic Wear    \n",
              "1      Diaries & Notebooks               Notebooks    \n",
              "2      Diaries & Notebooks               Notebooks    \n",
              "3      Diaries & Notebooks               Notebooks    \n",
              "4         Women's Clothing             Formal Wear    \n",
              "...                     ...                     ...   \n",
              "8901      Women's Clothing             Ethnic Wear    \n",
              "8902      Women's Clothing             Ethnic Wear    \n",
              "8903      Women's Clothing             Ethnic Wear    \n",
              "8904      Women's Clothing             Ethnic Wear    \n",
              "8905      Women's Clothing             Ethnic Wear    \n",
              "\n",
              "     product_category_subfilter product_unique ID  retail_price  \\\n",
              "0                       Fabric   FABEJX2NHNKCYHKA           999   \n",
              "1                     Designer   DIAEJ6Z8BEDTGGYY           499   \n",
              "2                     Designer   DIAEJ6Z8KQFWDEGH           499   \n",
              "3                     Designer   DIAEJ8FGHZ3K86JU          1000   \n",
              "4                   Waistcoats   WSCEG2FYDYFDSVZ6          1200   \n",
              "...                         ...               ...           ...   \n",
              "8901                    Fabric   FABEGGHHDFMY8BZU          2980   \n",
              "8902                    Fabric   FABEG8GFDUWRSNU3          2600   \n",
              "8903            Lehenga Cholis   LEHEGGEHYN4G2RPW         39992   \n",
              "8904                    Fabric   FABEGGHHGSVCHGFV          2000   \n",
              "8905                    Fabric   FABEG8GYDAABECZH          2800   \n",
              "\n",
              "      discounted_price  product_rating            Brand  \n",
              "0                  699             4.0         INDCROWN  \n",
              "1                  275             1.0        SHOPMANIA  \n",
              "2                  275             2.0        SHOPMANIA  \n",
              "3                  837             3.0    TIARA DIARIES  \n",
              "4                  699             5.0            KAJCI  \n",
              "...                ...             ...              ...  \n",
              "8901              1490             3.0           SININA  \n",
              "8902              1300             1.0  AARUSHI FASHION  \n",
              "8903             24995             1.0   AMBIKA LAHENGA  \n",
              "8904              1000             3.0           SININA  \n",
              "8905              1350             4.0  AARUSHI FASHION  \n",
              "\n",
              "[8906 rows x 15 columns]"
            ],
            "text/html": [
              "\n",
              "  <div id=\"df-4cf59e5b-ff88-4381-bb20-be280feced87\">\n",
              "    <div class=\"colab-df-container\">\n",
              "      <div>\n",
              "<style scoped>\n",
              "    .dataframe tbody tr th:only-of-type {\n",
              "        vertical-align: middle;\n",
              "    }\n",
              "\n",
              "    .dataframe tbody tr th {\n",
              "        vertical-align: top;\n",
              "    }\n",
              "\n",
              "    .dataframe thead th {\n",
              "        text-align: right;\n",
              "    }\n",
              "</style>\n",
              "<table border=\"1\" class=\"dataframe\">\n",
              "  <thead>\n",
              "    <tr style=\"text-align: right;\">\n",
              "      <th></th>\n",
              "      <th>Customer_uniq_id</th>\n",
              "      <th>Region</th>\n",
              "      <th>Order_Date</th>\n",
              "      <th>Expected_Delivery_Date</th>\n",
              "      <th>Delivered_Date</th>\n",
              "      <th>product_name</th>\n",
              "      <th>product_main_category</th>\n",
              "      <th>product_subcategory</th>\n",
              "      <th>product_category_filter</th>\n",
              "      <th>product_category_subfilter</th>\n",
              "      <th>product_unique ID</th>\n",
              "      <th>retail_price</th>\n",
              "      <th>discounted_price</th>\n",
              "      <th>product_rating</th>\n",
              "      <th>Brand</th>\n",
              "    </tr>\n",
              "  </thead>\n",
              "  <tbody>\n",
              "    <tr>\n",
              "      <th>0</th>\n",
              "      <td>e71017e224688489edfe856f2308806d</td>\n",
              "      <td>East</td>\n",
              "      <td>24-10-2021</td>\n",
              "      <td>25-10-2021</td>\n",
              "      <td>25-10-2021</td>\n",
              "      <td>Indcrown Net Embroidered Semi-stitched Lehenga...</td>\n",
              "      <td>Clothing</td>\n",
              "      <td>Women's Clothing</td>\n",
              "      <td>Ethnic Wear</td>\n",
              "      <td>Fabric</td>\n",
              "      <td>FABEJX2NHNKCYHKA</td>\n",
              "      <td>999</td>\n",
              "      <td>699</td>\n",
              "      <td>4.0</td>\n",
              "      <td>INDCROWN</td>\n",
              "    </tr>\n",
              "    <tr>\n",
              "      <th>1</th>\n",
              "      <td>6286847ee2da18f587503db49511c539</td>\n",
              "      <td>East</td>\n",
              "      <td>24-10-2021</td>\n",
              "      <td>25-10-2021</td>\n",
              "      <td>25-10-2021</td>\n",
              "      <td>Shopmania Music Band A5 Notebook Spiral Bound</td>\n",
              "      <td>Pens &amp; Stationery</td>\n",
              "      <td>Diaries &amp; Notebooks</td>\n",
              "      <td>Notebooks</td>\n",
              "      <td>Designer</td>\n",
              "      <td>DIAEJ6Z8BEDTGGYY</td>\n",
              "      <td>499</td>\n",
              "      <td>275</td>\n",
              "      <td>1.0</td>\n",
              "      <td>SHOPMANIA</td>\n",
              "    </tr>\n",
              "    <tr>\n",
              "      <th>2</th>\n",
              "      <td>0686fec9b70e5039583a38119ca0c835</td>\n",
              "      <td>West</td>\n",
              "      <td>24-10-2021</td>\n",
              "      <td>25-10-2021</td>\n",
              "      <td>25-10-2021</td>\n",
              "      <td>Shopmania Music Band A5 Notebook Spiral Bound</td>\n",
              "      <td>Pens &amp; Stationery</td>\n",
              "      <td>Diaries &amp; Notebooks</td>\n",
              "      <td>Notebooks</td>\n",
              "      <td>Designer</td>\n",
              "      <td>DIAEJ6Z8KQFWDEGH</td>\n",
              "      <td>499</td>\n",
              "      <td>275</td>\n",
              "      <td>2.0</td>\n",
              "      <td>SHOPMANIA</td>\n",
              "    </tr>\n",
              "    <tr>\n",
              "      <th>3</th>\n",
              "      <td>ea2406dc597bee2abb6b867fa668501f</td>\n",
              "      <td>West</td>\n",
              "      <td>24-10-2021</td>\n",
              "      <td>25-10-2021</td>\n",
              "      <td>25-10-2021</td>\n",
              "      <td>Tiara Diaries 2016-2017 Designer LA Kaarta \"TA...</td>\n",
              "      <td>Pens &amp; Stationery</td>\n",
              "      <td>Diaries &amp; Notebooks</td>\n",
              "      <td>Notebooks</td>\n",
              "      <td>Designer</td>\n",
              "      <td>DIAEJ8FGHZ3K86JU</td>\n",
              "      <td>1000</td>\n",
              "      <td>837</td>\n",
              "      <td>3.0</td>\n",
              "      <td>TIARA DIARIES</td>\n",
              "    </tr>\n",
              "    <tr>\n",
              "      <th>4</th>\n",
              "      <td>5935ed077915347dc695744df68c565c</td>\n",
              "      <td>East</td>\n",
              "      <td>03-09-2021</td>\n",
              "      <td>04-09-2021</td>\n",
              "      <td>04-09-2021</td>\n",
              "      <td>KAJCI Embroidered Women's Waistcoat</td>\n",
              "      <td>Clothing</td>\n",
              "      <td>Women's Clothing</td>\n",
              "      <td>Formal Wear</td>\n",
              "      <td>Waistcoats</td>\n",
              "      <td>WSCEG2FYDYFDSVZ6</td>\n",
              "      <td>1200</td>\n",
              "      <td>699</td>\n",
              "      <td>5.0</td>\n",
              "      <td>KAJCI</td>\n",
              "    </tr>\n",
              "    <tr>\n",
              "      <th>...</th>\n",
              "      <td>...</td>\n",
              "      <td>...</td>\n",
              "      <td>...</td>\n",
              "      <td>...</td>\n",
              "      <td>...</td>\n",
              "      <td>...</td>\n",
              "      <td>...</td>\n",
              "      <td>...</td>\n",
              "      <td>...</td>\n",
              "      <td>...</td>\n",
              "      <td>...</td>\n",
              "      <td>...</td>\n",
              "      <td>...</td>\n",
              "      <td>...</td>\n",
              "      <td>...</td>\n",
              "    </tr>\n",
              "    <tr>\n",
              "      <th>8901</th>\n",
              "      <td>90d30478255e23621e8929ed15c2f6e4</td>\n",
              "      <td>South</td>\n",
              "      <td>01-12-2020</td>\n",
              "      <td>04-12-2020</td>\n",
              "      <td>04-12-2020</td>\n",
              "      <td>Sinina Chanderi Embroidered Salwar Suit Dupatt...</td>\n",
              "      <td>Clothing</td>\n",
              "      <td>Women's Clothing</td>\n",
              "      <td>Ethnic Wear</td>\n",
              "      <td>Fabric</td>\n",
              "      <td>FABEGGHHDFMY8BZU</td>\n",
              "      <td>2980</td>\n",
              "      <td>1490</td>\n",
              "      <td>3.0</td>\n",
              "      <td>SININA</td>\n",
              "    </tr>\n",
              "    <tr>\n",
              "      <th>8902</th>\n",
              "      <td>20a73e3f41490a73ceeba5f17658db8f</td>\n",
              "      <td>West</td>\n",
              "      <td>01-12-2020</td>\n",
              "      <td>04-12-2020</td>\n",
              "      <td>04-12-2020</td>\n",
              "      <td>Aarushi Fashion Chanderi Embroidered Salwar Su...</td>\n",
              "      <td>Clothing</td>\n",
              "      <td>Women's Clothing</td>\n",
              "      <td>Ethnic Wear</td>\n",
              "      <td>Fabric</td>\n",
              "      <td>FABEG8GFDUWRSNU3</td>\n",
              "      <td>2600</td>\n",
              "      <td>1300</td>\n",
              "      <td>1.0</td>\n",
              "      <td>AARUSHI FASHION</td>\n",
              "    </tr>\n",
              "    <tr>\n",
              "      <th>8903</th>\n",
              "      <td>5c1554cd45f9d538c2c6947dbdd59c75</td>\n",
              "      <td>East</td>\n",
              "      <td>01-12-2020</td>\n",
              "      <td>04-12-2020</td>\n",
              "      <td>04-12-2020</td>\n",
              "      <td>Ambika Lahenga Embroidered Lehenga, Choli and ...</td>\n",
              "      <td>Clothing</td>\n",
              "      <td>Women's Clothing</td>\n",
              "      <td>Ethnic Wear</td>\n",
              "      <td>Lehenga Cholis</td>\n",
              "      <td>LEHEGGEHYN4G2RPW</td>\n",
              "      <td>39992</td>\n",
              "      <td>24995</td>\n",
              "      <td>1.0</td>\n",
              "      <td>AMBIKA LAHENGA</td>\n",
              "    </tr>\n",
              "    <tr>\n",
              "      <th>8904</th>\n",
              "      <td>6b737a4deca1ed0e56c179e66036e994</td>\n",
              "      <td>West</td>\n",
              "      <td>01-12-2020</td>\n",
              "      <td>04-12-2020</td>\n",
              "      <td>04-12-2020</td>\n",
              "      <td>Sinina Chanderi Embroidered Salwar Suit Dupatt...</td>\n",
              "      <td>Clothing</td>\n",
              "      <td>Women's Clothing</td>\n",
              "      <td>Ethnic Wear</td>\n",
              "      <td>Fabric</td>\n",
              "      <td>FABEGGHHGSVCHGFV</td>\n",
              "      <td>2000</td>\n",
              "      <td>1000</td>\n",
              "      <td>3.0</td>\n",
              "      <td>SININA</td>\n",
              "    </tr>\n",
              "    <tr>\n",
              "      <th>8905</th>\n",
              "      <td>a5235ac28d3d5487f54025f9d6b57433</td>\n",
              "      <td>North</td>\n",
              "      <td>01-12-2020</td>\n",
              "      <td>04-12-2020</td>\n",
              "      <td>04-12-2020</td>\n",
              "      <td>Aarushi Fashion Silk Striped Salwar Suit Dupat...</td>\n",
              "      <td>Clothing</td>\n",
              "      <td>Women's Clothing</td>\n",
              "      <td>Ethnic Wear</td>\n",
              "      <td>Fabric</td>\n",
              "      <td>FABEG8GYDAABECZH</td>\n",
              "      <td>2800</td>\n",
              "      <td>1350</td>\n",
              "      <td>4.0</td>\n",
              "      <td>AARUSHI FASHION</td>\n",
              "    </tr>\n",
              "  </tbody>\n",
              "</table>\n",
              "<p>8906 rows × 15 columns</p>\n",
              "</div>\n",
              "      <button class=\"colab-df-convert\" onclick=\"convertToInteractive('df-4cf59e5b-ff88-4381-bb20-be280feced87')\"\n",
              "              title=\"Convert this dataframe to an interactive table.\"\n",
              "              style=\"display:none;\">\n",
              "        \n",
              "  <svg xmlns=\"http://www.w3.org/2000/svg\" height=\"24px\"viewBox=\"0 0 24 24\"\n",
              "       width=\"24px\">\n",
              "    <path d=\"M0 0h24v24H0V0z\" fill=\"none\"/>\n",
              "    <path d=\"M18.56 5.44l.94 2.06.94-2.06 2.06-.94-2.06-.94-.94-2.06-.94 2.06-2.06.94zm-11 1L8.5 8.5l.94-2.06 2.06-.94-2.06-.94L8.5 2.5l-.94 2.06-2.06.94zm10 10l.94 2.06.94-2.06 2.06-.94-2.06-.94-.94-2.06-.94 2.06-2.06.94z\"/><path d=\"M17.41 7.96l-1.37-1.37c-.4-.4-.92-.59-1.43-.59-.52 0-1.04.2-1.43.59L10.3 9.45l-7.72 7.72c-.78.78-.78 2.05 0 2.83L4 21.41c.39.39.9.59 1.41.59.51 0 1.02-.2 1.41-.59l7.78-7.78 2.81-2.81c.8-.78.8-2.07 0-2.86zM5.41 20L4 18.59l7.72-7.72 1.47 1.35L5.41 20z\"/>\n",
              "  </svg>\n",
              "      </button>\n",
              "      \n",
              "  <style>\n",
              "    .colab-df-container {\n",
              "      display:flex;\n",
              "      flex-wrap:wrap;\n",
              "      gap: 12px;\n",
              "    }\n",
              "\n",
              "    .colab-df-convert {\n",
              "      background-color: #E8F0FE;\n",
              "      border: none;\n",
              "      border-radius: 50%;\n",
              "      cursor: pointer;\n",
              "      display: none;\n",
              "      fill: #1967D2;\n",
              "      height: 32px;\n",
              "      padding: 0 0 0 0;\n",
              "      width: 32px;\n",
              "    }\n",
              "\n",
              "    .colab-df-convert:hover {\n",
              "      background-color: #E2EBFA;\n",
              "      box-shadow: 0px 1px 2px rgba(60, 64, 67, 0.3), 0px 1px 3px 1px rgba(60, 64, 67, 0.15);\n",
              "      fill: #174EA6;\n",
              "    }\n",
              "\n",
              "    [theme=dark] .colab-df-convert {\n",
              "      background-color: #3B4455;\n",
              "      fill: #D2E3FC;\n",
              "    }\n",
              "\n",
              "    [theme=dark] .colab-df-convert:hover {\n",
              "      background-color: #434B5C;\n",
              "      box-shadow: 0px 1px 3px 1px rgba(0, 0, 0, 0.15);\n",
              "      filter: drop-shadow(0px 1px 2px rgba(0, 0, 0, 0.3));\n",
              "      fill: #FFFFFF;\n",
              "    }\n",
              "  </style>\n",
              "\n",
              "      <script>\n",
              "        const buttonEl =\n",
              "          document.querySelector('#df-4cf59e5b-ff88-4381-bb20-be280feced87 button.colab-df-convert');\n",
              "        buttonEl.style.display =\n",
              "          google.colab.kernel.accessAllowed ? 'block' : 'none';\n",
              "\n",
              "        async function convertToInteractive(key) {\n",
              "          const element = document.querySelector('#df-4cf59e5b-ff88-4381-bb20-be280feced87');\n",
              "          const dataTable =\n",
              "            await google.colab.kernel.invokeFunction('convertToInteractive',\n",
              "                                                     [key], {});\n",
              "          if (!dataTable) return;\n",
              "\n",
              "          const docLinkHtml = 'Like what you see? Visit the ' +\n",
              "            '<a target=\"_blank\" href=https://colab.research.google.com/notebooks/data_table.ipynb>data table notebook</a>'\n",
              "            + ' to learn more about interactive tables.';\n",
              "          element.innerHTML = '';\n",
              "          dataTable['output_type'] = 'display_data';\n",
              "          await google.colab.output.renderOutput(dataTable, element);\n",
              "          const docLink = document.createElement('div');\n",
              "          docLink.innerHTML = docLinkHtml;\n",
              "          element.appendChild(docLink);\n",
              "        }\n",
              "      </script>\n",
              "    </div>\n",
              "  </div>\n",
              "  "
            ]
          },
          "metadata": {},
          "execution_count": 10
        }
      ],
      "source": [
        "ECom_Data.drop(['product_specifications','description'],axis=1)  #to drom columns  #  to drop Column Product_Specifications "
      ]
    },
    {
      "cell_type": "code",
      "source": [
        "ECom_Data.shape"
      ],
      "metadata": {
        "colab": {
          "base_uri": "https://localhost:8080/"
        },
        "id": "RcRz92ygp6rB",
        "outputId": "b61b7beb-3e7f-42e1-fa76-fbafcb2aa892"
      },
      "id": "RcRz92ygp6rB",
      "execution_count": null,
      "outputs": [
        {
          "output_type": "execute_result",
          "data": {
            "text/plain": [
              "(8906, 17)"
            ]
          },
          "metadata": {},
          "execution_count": 11
        }
      ]
    },
    {
      "cell_type": "code",
      "source": [
        "ECom_Data.info()"
      ],
      "metadata": {
        "colab": {
          "base_uri": "https://localhost:8080/"
        },
        "id": "R2oM2cLuUeJb",
        "outputId": "b3b43f3b-a10d-45d8-bc2d-f1ddb45f45e0"
      },
      "id": "R2oM2cLuUeJb",
      "execution_count": null,
      "outputs": [
        {
          "output_type": "stream",
          "name": "stdout",
          "text": [
            "<class 'pandas.core.frame.DataFrame'>\n",
            "RangeIndex: 8906 entries, 0 to 8905\n",
            "Data columns (total 17 columns):\n",
            " #   Column                      Non-Null Count  Dtype  \n",
            "---  ------                      --------------  -----  \n",
            " 0   Customer_uniq_id            8906 non-null   object \n",
            " 1   Region                      8906 non-null   object \n",
            " 2   Order_Date                  8906 non-null   object \n",
            " 3   Expected_Delivery_Date      8906 non-null   object \n",
            " 4   Delivered_Date              8906 non-null   object \n",
            " 5   product_name                8906 non-null   object \n",
            " 6   product_main_category       8906 non-null   object \n",
            " 7   product_subcategory         8906 non-null   object \n",
            " 8   product_category_filter     8906 non-null   object \n",
            " 9   product_category_subfilter  8906 non-null   object \n",
            " 10  product_unique ID           8906 non-null   object \n",
            " 11  retail_price                8906 non-null   int64  \n",
            " 12  discounted_price            8906 non-null   int64  \n",
            " 13  product_rating              8906 non-null   float64\n",
            " 14  Brand                       8906 non-null   object \n",
            " 15  product_specifications      8906 non-null   object \n",
            " 16  description                 8906 non-null   object \n",
            "dtypes: float64(1), int64(2), object(14)\n",
            "memory usage: 1.2+ MB\n"
          ]
        }
      ]
    },
    {
      "cell_type": "markdown",
      "id": "e6159f6a",
      "metadata": {
        "id": "e6159f6a"
      },
      "source": [
        "### Ans 2 b)"
      ]
    },
    {
      "cell_type": "code",
      "execution_count": null,
      "id": "47a63265",
      "metadata": {
        "id": "47a63265"
      },
      "outputs": [],
      "source": [
        "ECom_Data.drop(['product_specifications','description'],axis=1,inplace=True)  #function used to permanently delete the columns"
      ]
    },
    {
      "cell_type": "code",
      "source": [
        "ECom_Data.info()\n"
      ],
      "metadata": {
        "colab": {
          "base_uri": "https://localhost:8080/"
        },
        "id": "G4cPmkTT0boe",
        "outputId": "2da319b1-260d-42fb-fbde-b8381b8f6b39"
      },
      "id": "G4cPmkTT0boe",
      "execution_count": null,
      "outputs": [
        {
          "output_type": "stream",
          "name": "stdout",
          "text": [
            "<class 'pandas.core.frame.DataFrame'>\n",
            "RangeIndex: 8906 entries, 0 to 8905\n",
            "Data columns (total 15 columns):\n",
            " #   Column                      Non-Null Count  Dtype  \n",
            "---  ------                      --------------  -----  \n",
            " 0   Customer_uniq_id            8906 non-null   object \n",
            " 1   Region                      8906 non-null   object \n",
            " 2   Order_Date                  8906 non-null   object \n",
            " 3   Expected_Delivery_Date      8906 non-null   object \n",
            " 4   Delivered_Date              8906 non-null   object \n",
            " 5   product_name                8906 non-null   object \n",
            " 6   product_main_category       8906 non-null   object \n",
            " 7   product_subcategory         8906 non-null   object \n",
            " 8   product_category_filter     8906 non-null   object \n",
            " 9   product_category_subfilter  8906 non-null   object \n",
            " 10  product_unique ID           8906 non-null   object \n",
            " 11  retail_price                8906 non-null   int64  \n",
            " 12  discounted_price            8906 non-null   int64  \n",
            " 13  product_rating              8906 non-null   float64\n",
            " 14  Brand                       8906 non-null   object \n",
            "dtypes: float64(1), int64(2), object(12)\n",
            "memory usage: 1.0+ MB\n"
          ]
        }
      ]
    },
    {
      "cell_type": "code",
      "source": [],
      "metadata": {
        "id": "JHX0lLPj1GU2"
      },
      "id": "JHX0lLPj1GU2",
      "execution_count": null,
      "outputs": []
    },
    {
      "cell_type": "markdown",
      "id": "cde421e0",
      "metadata": {
        "id": "cde421e0"
      },
      "source": [
        "<font color='blue'>\n",
        "    <font size = 5>\n",
        "        The next steps in this project involves summarization of data at various levels and visualization. Apparently, such simple steps are very useful to get an overall sense of the data.\n",
        "    </font>"
      ]
    },
    {
      "cell_type": "markdown",
      "id": "41c30ad7",
      "metadata": {
        "id": "41c30ad7"
      },
      "source": [
        "## Q 3. Here we summarize the data at Brand level.\n",
        "## a) How many unique Brand are there? (2 marks)\n",
        "## b) Note that each Brand contains multiple products. Show the average product_rating within each Brand (2 marks)\n"
      ]
    },
    {
      "cell_type": "markdown",
      "id": "beb3f83f",
      "metadata": {
        "id": "beb3f83f"
      },
      "source": [
        "### Ans 3 a)"
      ]
    },
    {
      "cell_type": "code",
      "execution_count": null,
      "id": "41dcb79f",
      "metadata": {
        "id": "41dcb79f",
        "colab": {
          "base_uri": "https://localhost:8080/"
        },
        "outputId": "cc47fcb2-488b-4289-e1c8-8bf98edc1231"
      },
      "outputs": [
        {
          "output_type": "execute_result",
          "data": {
            "text/plain": [
              "array(['INDCROWN', 'SHOPMANIA', 'TIARA DIARIES', ..., 'SININA',\n",
              "       'AARUSHI FASHION', 'AMBIKA LAHENGA'], dtype=object)"
            ]
          },
          "metadata": {},
          "execution_count": 15
        }
      ],
      "source": [
        "ECom_Data['Brand'].unique()"
      ]
    },
    {
      "cell_type": "markdown",
      "id": "5083d866",
      "metadata": {
        "id": "5083d866"
      },
      "source": [
        "### Ans 3 b)"
      ]
    },
    {
      "cell_type": "code",
      "execution_count": null,
      "id": "10018c2c",
      "metadata": {
        "id": "10018c2c",
        "colab": {
          "base_uri": "https://localhost:8080/"
        },
        "outputId": "b1772411-669d-4db0-dbad-2cc7bccebd54"
      },
      "outputs": [
        {
          "output_type": "execute_result",
          "data": {
            "text/plain": [
              "3.066595553559398"
            ]
          },
          "metadata": {},
          "execution_count": 16
        }
      ],
      "source": [
        "ECom_Data['product_rating'].mean() #average product_rating"
      ]
    },
    {
      "cell_type": "markdown",
      "id": "bbf162af",
      "metadata": {
        "id": "bbf162af"
      },
      "source": [
        "## Q 4. Next we study the main categories of the products.\n",
        "\n",
        "## a) Create an appropriate plot to show the count of items ordered for each product_main_category. (6 marks).\n",
        "\n",
        "### Hint: Create a bar chart titled \"Product Category type\" where product_main_category are on x-axis and counts are on y-axis.\n",
        "\n",
        "### Note: Both axis labels, i.e. the names of the product_main_category and counts must be clearly legible. \n",
        "\n",
        "## b) From the plot identify for which two product_main_category(s)  maximum and minimum orders were placed. (2 marks)\n",
        "\n",
        "## c) Write code to print out the top 5 product_main_category(s)  in descending order? (3 marks"
      ]
    },
    {
      "cell_type": "markdown",
      "id": "36c72928",
      "metadata": {
        "id": "36c72928"
      },
      "source": [
        "### Ans 4 a)"
      ]
    },
    {
      "cell_type": "code",
      "execution_count": null,
      "id": "f60dd2c1",
      "metadata": {
        "id": "f60dd2c1",
        "colab": {
          "base_uri": "https://localhost:8080/",
          "height": 582
        },
        "outputId": "fcf6edfb-8e3f-4ef0-cc16-c47f7db70fb7"
      },
      "outputs": [
        {
          "output_type": "display_data",
          "data": {
            "text/plain": [
              "<Figure size 1440x504 with 1 Axes>"
            ],
            "image/png": "[encoded data removed]"
          },
          "metadata": {
            "needs_background": "light"
          }
        }
      ],
      "source": [
        "plt.figure(figsize=(20,7))\n",
        "sns.countplot(data=ECom_Data, x='product_main_category'); \n",
        "plt.xticks(rotation=90); #Product Category type"
      ]
    },
    {
      "cell_type": "markdown",
      "id": "13a5b355",
      "metadata": {
        "id": "13a5b355"
      },
      "source": [
        "### Ans 4 b)"
      ]
    },
    {
      "cell_type": "code",
      "source": [
        "ECom_Data['product_main_category'].max()"
      ],
      "metadata": {
        "colab": {
          "base_uri": "https://localhost:8080/",
          "height": 35
        },
        "id": "K3Lc3-JPL26K",
        "outputId": "fab57a28-4531-47f8-ee79-1055453f81a8"
      },
      "id": "K3Lc3-JPL26K",
      "execution_count": null,
      "outputs": [
        {
          "output_type": "execute_result",
          "data": {
            "text/plain": [
              "'Wearable Smart Devices '"
            ],
            "application/vnd.google.colaboratory.intrinsic+json": {
              "type": "string"
            }
          },
          "metadata": {},
          "execution_count": 18
        }
      ]
    },
    {
      "cell_type": "code",
      "source": [
        "ECom_Data['product_main_category'].min()"
      ],
      "metadata": {
        "colab": {
          "base_uri": "https://localhost:8080/",
          "height": 35
        },
        "id": "TevIL3YGf3dO",
        "outputId": "165488ad-ccce-4ae0-8520-5e4ce1e67a35"
      },
      "id": "TevIL3YGf3dO",
      "execution_count": null,
      "outputs": [
        {
          "output_type": "execute_result",
          "data": {
            "text/plain": [
              "'Automotive '"
            ],
            "application/vnd.google.colaboratory.intrinsic+json": {
              "type": "string"
            }
          },
          "metadata": {},
          "execution_count": 19
        }
      ]
    },
    {
      "cell_type": "markdown",
      "source": [],
      "metadata": {
        "id": "N36qJ2eMCIsL"
      },
      "id": "N36qJ2eMCIsL"
    },
    {
      "cell_type": "markdown",
      "id": "4ea60c92",
      "metadata": {
        "id": "4ea60c92"
      },
      "source": [
        "### Ans 4 c)"
      ]
    },
    {
      "cell_type": "code",
      "execution_count": null,
      "id": "7f704116",
      "metadata": {
        "id": "7f704116",
        "colab": {
          "base_uri": "https://localhost:8080/",
          "height": 513
        },
        "outputId": "ff9d5f59-96ab-4dcf-982b-2581843a317c"
      },
      "outputs": [
        {
          "output_type": "execute_result",
          "data": {
            "text/plain": [
              "                      Customer_uniq_id Region  Order_Date  \\\n",
              "3525  e9286a103f2d3dcc752c188a666825ea  South  09-06-2021   \n",
              "2881  8df2c39ae09adffa1ac885b4ad9f695c  North  24-04-2021   \n",
              "2910  c11f8d9184c7ba8a0ed696e6c5d7a0d0   West  24-04-2021   \n",
              "2916  e2cec0756030a25f294ead3acc0570d2  East   24-04-2021   \n",
              "2918  5bdcb99b86cf6613a69e0a6046e44ff6  North  24-04-2021   \n",
              "\n",
              "     Expected_Delivery_Date Delivered_Date  \\\n",
              "3525             12-06-2021     12-06-2021   \n",
              "2881             27-04-2021     27-04-2021   \n",
              "2910             27-04-2021     27-04-2021   \n",
              "2916             27-04-2021     27-04-2021   \n",
              "2918             27-04-2021     27-04-2021   \n",
              "\n",
              "                                          product_name  \\\n",
              "3525                Besto LED-B3PWGYR Smart Band Strap   \n",
              "2881             Desire PT-362 Analog Watch  - For Men   \n",
              "2910  Texus TXMW93 Black Analog Watch  - For Men, Boys   \n",
              "2916          ESIDON AKADA06 Analog Watch  - For Women   \n",
              "2918          ESIDON AKADA04 Analog Watch  - For Women   \n",
              "\n",
              "        product_main_category     product_subcategory  \\\n",
              "3525  Wearable Smart Devices    Wearable Accessories    \n",
              "2881                 Watches           Wrist Watches    \n",
              "2910                 Watches           Wrist Watches    \n",
              "2916                 Watches           Wrist Watches    \n",
              "2918                 Watches           Wrist Watches    \n",
              "\n",
              "           product_category_filter  \\\n",
              "3525   Besto Wearable Accessories    \n",
              "2881         Desire Wrist Watches    \n",
              "2910          Texus Wrist Watches    \n",
              "2916         ESIDON Wrist Watches    \n",
              "2918         ESIDON Wrist Watches    \n",
              "\n",
              "                             product_category_subfilter product_unique ID  \\\n",
              "3525   Besto LED-B3PWGYR Smart Band Strap (Mullti Co...  SBWEGKHH7SY6ENHV   \n",
              "2881              Desire PT-362 Analog Watch  - For Men  WATEHYVPGMHURTKG   \n",
              "2910   Texus TXMW93 Black Analog Watch  - For Men, Boys  WATEHXGUDDHGN6ZZ   \n",
              "2916           ESIDON AKADA06 Analog Watch  - For Women  WATEHVHJTFRSSSYK   \n",
              "2918           ESIDON AKADA04 Analog Watch  - For Women  WATEHVHJSUBGKZVG   \n",
              "\n",
              "      retail_price  discounted_price  product_rating   Brand  \n",
              "3525          1299               539             3.0   BESTO  \n",
              "2881          1299               999             5.0  DESIRE  \n",
              "2910          1099               359             5.0   TEXUS  \n",
              "2916          1999               449             2.0  ESIDON  \n",
              "2918          1999               449             2.0  ESIDON  "
            ],
            "text/html": [
              "\n",
              "  <div id=\"df-61052dd3-54a1-40aa-9c86-32edbf67ba28\">\n",
              "    <div class=\"colab-df-container\">\n",
              "      <div>\n",
              "<style scoped>\n",
              "    .dataframe tbody tr th:only-of-type {\n",
              "        vertical-align: middle;\n",
              "    }\n",
              "\n",
              "    .dataframe tbody tr th {\n",
              "        vertical-align: top;\n",
              "    }\n",
              "\n",
              "    .dataframe thead th {\n",
              "        text-align: right;\n",
              "    }\n",
              "</style>\n",
              "<table border=\"1\" class=\"dataframe\">\n",
              "  <thead>\n",
              "    <tr style=\"text-align: right;\">\n",
              "      <th></th>\n",
              "      <th>Customer_uniq_id</th>\n",
              "      <th>Region</th>\n",
              "      <th>Order_Date</th>\n",
              "      <th>Expected_Delivery_Date</th>\n",
              "      <th>Delivered_Date</th>\n",
              "      <th>product_name</th>\n",
              "      <th>product_main_category</th>\n",
              "      <th>product_subcategory</th>\n",
              "      <th>product_category_filter</th>\n",
              "      <th>product_category_subfilter</th>\n",
              "      <th>product_unique ID</th>\n",
              "      <th>retail_price</th>\n",
              "      <th>discounted_price</th>\n",
              "      <th>product_rating</th>\n",
              "      <th>Brand</th>\n",
              "    </tr>\n",
              "  </thead>\n",
              "  <tbody>\n",
              "    <tr>\n",
              "      <th>3525</th>\n",
              "      <td>e9286a103f2d3dcc752c188a666825ea</td>\n",
              "      <td>South</td>\n",
              "      <td>09-06-2021</td>\n",
              "      <td>12-06-2021</td>\n",
              "      <td>12-06-2021</td>\n",
              "      <td>Besto LED-B3PWGYR Smart Band Strap</td>\n",
              "      <td>Wearable Smart Devices</td>\n",
              "      <td>Wearable Accessories</td>\n",
              "      <td>Besto Wearable Accessories</td>\n",
              "      <td>Besto LED-B3PWGYR Smart Band Strap (Mullti Co...</td>\n",
              "      <td>SBWEGKHH7SY6ENHV</td>\n",
              "      <td>1299</td>\n",
              "      <td>539</td>\n",
              "      <td>3.0</td>\n",
              "      <td>BESTO</td>\n",
              "    </tr>\n",
              "    <tr>\n",
              "      <th>2881</th>\n",
              "      <td>8df2c39ae09adffa1ac885b4ad9f695c</td>\n",
              "      <td>North</td>\n",
              "      <td>24-04-2021</td>\n",
              "      <td>27-04-2021</td>\n",
              "      <td>27-04-2021</td>\n",
              "      <td>Desire PT-362 Analog Watch  - For Men</td>\n",
              "      <td>Watches</td>\n",
              "      <td>Wrist Watches</td>\n",
              "      <td>Desire Wrist Watches</td>\n",
              "      <td>Desire PT-362 Analog Watch  - For Men</td>\n",
              "      <td>WATEHYVPGMHURTKG</td>\n",
              "      <td>1299</td>\n",
              "      <td>999</td>\n",
              "      <td>5.0</td>\n",
              "      <td>DESIRE</td>\n",
              "    </tr>\n",
              "    <tr>\n",
              "      <th>2910</th>\n",
              "      <td>c11f8d9184c7ba8a0ed696e6c5d7a0d0</td>\n",
              "      <td>West</td>\n",
              "      <td>24-04-2021</td>\n",
              "      <td>27-04-2021</td>\n",
              "      <td>27-04-2021</td>\n",
              "      <td>Texus TXMW93 Black Analog Watch  - For Men, Boys</td>\n",
              "      <td>Watches</td>\n",
              "      <td>Wrist Watches</td>\n",
              "      <td>Texus Wrist Watches</td>\n",
              "      <td>Texus TXMW93 Black Analog Watch  - For Men, Boys</td>\n",
              "      <td>WATEHXGUDDHGN6ZZ</td>\n",
              "      <td>1099</td>\n",
              "      <td>359</td>\n",
              "      <td>5.0</td>\n",
              "      <td>TEXUS</td>\n",
              "    </tr>\n",
              "    <tr>\n",
              "      <th>2916</th>\n",
              "      <td>e2cec0756030a25f294ead3acc0570d2</td>\n",
              "      <td>East</td>\n",
              "      <td>24-04-2021</td>\n",
              "      <td>27-04-2021</td>\n",
              "      <td>27-04-2021</td>\n",
              "      <td>ESIDON AKADA06 Analog Watch  - For Women</td>\n",
              "      <td>Watches</td>\n",
              "      <td>Wrist Watches</td>\n",
              "      <td>ESIDON Wrist Watches</td>\n",
              "      <td>ESIDON AKADA06 Analog Watch  - For Women</td>\n",
              "      <td>WATEHVHJTFRSSSYK</td>\n",
              "      <td>1999</td>\n",
              "      <td>449</td>\n",
              "      <td>2.0</td>\n",
              "      <td>ESIDON</td>\n",
              "    </tr>\n",
              "    <tr>\n",
              "      <th>2918</th>\n",
              "      <td>5bdcb99b86cf6613a69e0a6046e44ff6</td>\n",
              "      <td>North</td>\n",
              "      <td>24-04-2021</td>\n",
              "      <td>27-04-2021</td>\n",
              "      <td>27-04-2021</td>\n",
              "      <td>ESIDON AKADA04 Analog Watch  - For Women</td>\n",
              "      <td>Watches</td>\n",
              "      <td>Wrist Watches</td>\n",
              "      <td>ESIDON Wrist Watches</td>\n",
              "      <td>ESIDON AKADA04 Analog Watch  - For Women</td>\n",
              "      <td>WATEHVHJSUBGKZVG</td>\n",
              "      <td>1999</td>\n",
              "      <td>449</td>\n",
              "      <td>2.0</td>\n",
              "      <td>ESIDON</td>\n",
              "    </tr>\n",
              "  </tbody>\n",
              "</table>\n",
              "</div>\n",
              "      <button class=\"colab-df-convert\" onclick=\"convertToInteractive('df-61052dd3-54a1-40aa-9c86-32edbf67ba28')\"\n",
              "              title=\"Convert this dataframe to an interactive table.\"\n",
              "              style=\"display:none;\">\n",
              "        \n",
              "  <svg xmlns=\"http://www.w3.org/2000/svg\" height=\"24px\"viewBox=\"0 0 24 24\"\n",
              "       width=\"24px\">\n",
              "    <path d=\"M0 0h24v24H0V0z\" fill=\"none\"/>\n",
              "    <path d=\"M18.56 5.44l.94 2.06.94-2.06 2.06-.94-2.06-.94-.94-2.06-.94 2.06-2.06.94zm-11 1L8.5 8.5l.94-2.06 2.06-.94-2.06-.94L8.5 2.5l-.94 2.06-2.06.94zm10 10l.94 2.06.94-2.06 2.06-.94-2.06-.94-.94-2.06-.94 2.06-2.06.94z\"/><path d=\"M17.41 7.96l-1.37-1.37c-.4-.4-.92-.59-1.43-.59-.52 0-1.04.2-1.43.59L10.3 9.45l-7.72 7.72c-.78.78-.78 2.05 0 2.83L4 21.41c.39.39.9.59 1.41.59.51 0 1.02-.2 1.41-.59l7.78-7.78 2.81-2.81c.8-.78.8-2.07 0-2.86zM5.41 20L4 18.59l7.72-7.72 1.47 1.35L5.41 20z\"/>\n",
              "  </svg>\n",
              "      </button>\n",
              "      \n",
              "  <style>\n",
              "    .colab-df-container {\n",
              "      display:flex;\n",
              "      flex-wrap:wrap;\n",
              "      gap: 12px;\n",
              "    }\n",
              "\n",
              "    .colab-df-convert {\n",
              "      background-color: #E8F0FE;\n",
              "      border: none;\n",
              "      border-radius: 50%;\n",
              "      cursor: pointer;\n",
              "      display: none;\n",
              "      fill: #1967D2;\n",
              "      height: 32px;\n",
              "      padding: 0 0 0 0;\n",
              "      width: 32px;\n",
              "    }\n",
              "\n",
              "    .colab-df-convert:hover {\n",
              "      background-color: #E2EBFA;\n",
              "      box-shadow: 0px 1px 2px rgba(60, 64, 67, 0.3), 0px 1px 3px 1px rgba(60, 64, 67, 0.15);\n",
              "      fill: #174EA6;\n",
              "    }\n",
              "\n",
              "    [theme=dark] .colab-df-convert {\n",
              "      background-color: #3B4455;\n",
              "      fill: #D2E3FC;\n",
              "    }\n",
              "\n",
              "    [theme=dark] .colab-df-convert:hover {\n",
              "      background-color: #434B5C;\n",
              "      box-shadow: 0px 1px 3px 1px rgba(0, 0, 0, 0.15);\n",
              "      filter: drop-shadow(0px 1px 2px rgba(0, 0, 0, 0.3));\n",
              "      fill: #FFFFFF;\n",
              "    }\n",
              "  </style>\n",
              "\n",
              "      <script>\n",
              "        const buttonEl =\n",
              "          document.querySelector('#df-61052dd3-54a1-40aa-9c86-32edbf67ba28 button.colab-df-convert');\n",
              "        buttonEl.style.display =\n",
              "          google.colab.kernel.accessAllowed ? 'block' : 'none';\n",
              "\n",
              "        async function convertToInteractive(key) {\n",
              "          const element = document.querySelector('#df-61052dd3-54a1-40aa-9c86-32edbf67ba28');\n",
              "          const dataTable =\n",
              "            await google.colab.kernel.invokeFunction('convertToInteractive',\n",
              "                                                     [key], {});\n",
              "          if (!dataTable) return;\n",
              "\n",
              "          const docLinkHtml = 'Like what you see? Visit the ' +\n",
              "            '<a target=\"_blank\" href=https://colab.research.google.com/notebooks/data_table.ipynb>data table notebook</a>'\n",
              "            + ' to learn more about interactive tables.';\n",
              "          element.innerHTML = '';\n",
              "          dataTable['output_type'] = 'display_data';\n",
              "          await google.colab.output.renderOutput(dataTable, element);\n",
              "          const docLink = document.createElement('div');\n",
              "          docLink.innerHTML = docLinkHtml;\n",
              "          element.appendChild(docLink);\n",
              "        }\n",
              "      </script>\n",
              "    </div>\n",
              "  </div>\n",
              "  "
            ]
          },
          "metadata": {},
          "execution_count": 20
        }
      ],
      "source": [
        "#ECom_Data['product_main_category'].head()\n",
        "ECom_Data.sort_values(by='product_main_category',ascending=False).head()\n"
      ]
    },
    {
      "cell_type": "markdown",
      "id": "a9f81605",
      "metadata": {
        "id": "a9f81605"
      },
      "source": [
        "<font color='blue'>\n",
        "    <font size = 5>\n",
        "    In E-commerce, both the retailers (here brands) and the company have to make profit to sustain in the business. \n",
        "    The E-Commerce company has the following rule for computing their own revenue: </font> \n",
        "    \n",
        "####     The company charges  \n",
        "####  (i) 25% on the orders having final price (discounted price) greater than 600\n",
        "\n",
        "#### (ii) 15% on the orders having final price (discounted price) greater than 350 but less than or equal to 600\n",
        "\n",
        "#### (iii) 10% on the orders having final price (discounted price) greater than 100 but less than or equal to 350\n",
        "\n",
        "#### (iv) Otherwise, 5% on the final price (discounted price)    </font> "
      ]
    },
    {
      "cell_type": "markdown",
      "id": "0f255fea",
      "metadata": {
        "id": "0f255fea"
      },
      "source": [
        "## Q 5. Find the Total Revenue generated by the E-Commerce company over all orders placed. (6 marks)\n",
        "\n",
        "#### Hint: Calculate revenue of E-commerce company using the conditions mentioned above and then do the total (sum) of all to get total Revenue. "
      ]
    },
    {
      "cell_type": "code",
      "source": [],
      "metadata": {
        "id": "vIwIprFZOs5f"
      },
      "id": "vIwIprFZOs5f",
      "execution_count": null,
      "outputs": []
    },
    {
      "cell_type": "markdown",
      "id": "1f6b8028",
      "metadata": {
        "id": "1f6b8028"
      },
      "source": [
        "### Ans 5"
      ]
    },
    {
      "cell_type": "code",
      "execution_count": null,
      "id": "c62d888f",
      "metadata": {
        "id": "c62d888f"
      },
      "outputs": [],
      "source": [
        "#Define the selling price\n",
        "\n",
        "def comp_charges_calc(discounted_price):\n",
        " if discounted_price > 600:\n",
        "  comp_charges =  discounted_price*0.25  \n",
        " elif (discounted_price >350) and (discounted_price <=600):\n",
        "  comp_charges = discounted_price*0.15\n",
        " elif (discounted_price >100) and (discounted_price <=350):\n",
        "  comp_charges= discounted_price*0.10\n",
        " else:\n",
        "  comp_charges=discounted_price*0.05\n",
        " return round (comp_charges, 2) "
      ]
    },
    {
      "cell_type": "code",
      "source": [
        " ECom_Data['comp_charges'] = ECom_Data['discounted_price'].apply(comp_charges_calc)"
      ],
      "metadata": {
        "id": "IZhRS8EDlVhC"
      },
      "id": "IZhRS8EDlVhC",
      "execution_count": null,
      "outputs": []
    },
    {
      "cell_type": "code",
      "source": [
        "ECom_Data.info()"
      ],
      "metadata": {
        "colab": {
          "base_uri": "https://localhost:8080/"
        },
        "id": "2YgeIhkKvYC_",
        "outputId": "32b12b57-259c-4637-fca2-636867074d1b"
      },
      "id": "2YgeIhkKvYC_",
      "execution_count": null,
      "outputs": [
        {
          "output_type": "stream",
          "name": "stdout",
          "text": [
            "<class 'pandas.core.frame.DataFrame'>\n",
            "RangeIndex: 8906 entries, 0 to 8905\n",
            "Data columns (total 16 columns):\n",
            " #   Column                      Non-Null Count  Dtype  \n",
            "---  ------                      --------------  -----  \n",
            " 0   Customer_uniq_id            8906 non-null   object \n",
            " 1   Region                      8906 non-null   object \n",
            " 2   Order_Date                  8906 non-null   object \n",
            " 3   Expected_Delivery_Date      8906 non-null   object \n",
            " 4   Delivered_Date              8906 non-null   object \n",
            " 5   product_name                8906 non-null   object \n",
            " 6   product_main_category       8906 non-null   object \n",
            " 7   product_subcategory         8906 non-null   object \n",
            " 8   product_category_filter     8906 non-null   object \n",
            " 9   product_category_subfilter  8906 non-null   object \n",
            " 10  product_unique ID           8906 non-null   object \n",
            " 11  retail_price                8906 non-null   int64  \n",
            " 12  discounted_price            8906 non-null   int64  \n",
            " 13  product_rating              8906 non-null   float64\n",
            " 14  Brand                       8906 non-null   object \n",
            " 15  comp_charges                8906 non-null   float64\n",
            "dtypes: float64(2), int64(2), object(12)\n",
            "memory usage: 1.1+ MB\n"
          ]
        }
      ]
    },
    {
      "cell_type": "code",
      "source": [
        "\n",
        "print('Total Revenue generated by the E-Commerce company over all orders placed is {}'.format(ECom_Data['comp_charges'].sum()))"
      ],
      "metadata": {
        "colab": {
          "base_uri": "https://localhost:8080/"
        },
        "id": "Jt1THzEQv4JH",
        "outputId": "1537f406-ccd4-48fc-b1c0-6900aad9022e"
      },
      "id": "Jt1THzEQv4JH",
      "execution_count": null,
      "outputs": [
        {
          "output_type": "stream",
          "name": "stdout",
          "text": [
            "Total Revenue generated by the E-Commerce company over all orders placed is 2217486.85\n"
          ]
        }
      ]
    },
    {
      "cell_type": "markdown",
      "id": "9161ca8c",
      "metadata": {
        "id": "9161ca8c"
      },
      "source": [
        "<font color='blue'>\n",
        "    <font size = 5>\n",
        "    Now you need to find the revenue for each retailer (Brand)\n",
        "    </font>"
      ]
    },
    {
      "cell_type": "code",
      "source": [],
      "metadata": {
        "id": "2Ak6euuGv2kc"
      },
      "id": "2Ak6euuGv2kc",
      "execution_count": null,
      "outputs": []
    },
    {
      "cell_type": "markdown",
      "id": "73dd23c3",
      "metadata": {
        "id": "73dd23c3"
      },
      "source": [
        "## Q6.Calculate the total BrandRevenue and list the top 10 Brand having maximum revenue in descending order (6 marks)\n",
        "#### Hint: Total BrandRevenue is BrandRevenue which is generated after all the deductions. Also, BrandRevenue is different from the E-Commerce company's revenue.\n",
        "#### Brand Revenue is the discounted price minus the Revenue (generated using the conditions given above Q5)\n"
      ]
    },
    {
      "cell_type": "markdown",
      "id": "3514fa79",
      "metadata": {
        "id": "3514fa79"
      },
      "source": [
        "### Ans 6"
      ]
    },
    {
      "cell_type": "code",
      "execution_count": null,
      "id": "437c69b5",
      "metadata": {
        "id": "437c69b5"
      },
      "outputs": [],
      "source": [
        "ECom_Data['brand_revenue']=ECom_Data['discounted_price']-ECom_Data['comp_charges']"
      ]
    },
    {
      "cell_type": "code",
      "source": [
        "ECom_Data.info()"
      ],
      "metadata": {
        "colab": {
          "base_uri": "https://localhost:8080/"
        },
        "id": "ZiXL_m-rxhwr",
        "outputId": "b470d578-4d0b-4ecd-cd79-3a78bedffb88"
      },
      "id": "ZiXL_m-rxhwr",
      "execution_count": null,
      "outputs": [
        {
          "output_type": "stream",
          "name": "stdout",
          "text": [
            "<class 'pandas.core.frame.DataFrame'>\n",
            "RangeIndex: 8906 entries, 0 to 8905\n",
            "Data columns (total 17 columns):\n",
            " #   Column                      Non-Null Count  Dtype  \n",
            "---  ------                      --------------  -----  \n",
            " 0   Customer_uniq_id            8906 non-null   object \n",
            " 1   Region                      8906 non-null   object \n",
            " 2   Order_Date                  8906 non-null   object \n",
            " 3   Expected_Delivery_Date      8906 non-null   object \n",
            " 4   Delivered_Date              8906 non-null   object \n",
            " 5   product_name                8906 non-null   object \n",
            " 6   product_main_category       8906 non-null   object \n",
            " 7   product_subcategory         8906 non-null   object \n",
            " 8   product_category_filter     8906 non-null   object \n",
            " 9   product_category_subfilter  8906 non-null   object \n",
            " 10  product_unique ID           8906 non-null   object \n",
            " 11  retail_price                8906 non-null   int64  \n",
            " 12  discounted_price            8906 non-null   int64  \n",
            " 13  product_rating              8906 non-null   float64\n",
            " 14  Brand                       8906 non-null   object \n",
            " 15  comp_charges                8906 non-null   float64\n",
            " 16  brand_revenue               8906 non-null   float64\n",
            "dtypes: float64(3), int64(2), object(12)\n",
            "memory usage: 1.2+ MB\n"
          ]
        }
      ]
    },
    {
      "cell_type": "code",
      "source": [
        "print('Total Brand Revenue is {}'.format(ECom_Data['brand_revenue'].sum()))"
      ],
      "metadata": {
        "colab": {
          "base_uri": "https://localhost:8080/"
        },
        "id": "Y0-Z2cZrx0ld",
        "outputId": "030d77c9-f93e-4001-d96f-0be807d117f2"
      },
      "id": "Y0-Z2cZrx0ld",
      "execution_count": null,
      "outputs": [
        {
          "output_type": "stream",
          "name": "stdout",
          "text": [
            "Total Brand Revenue is 7522992.15\n"
          ]
        }
      ]
    },
    {
      "cell_type": "code",
      "source": [
        "pd.DataFrame(ECom_Data.groupby(ECom_Data['Brand'].str.title())['brand_revenue'].sum()) "
      ],
      "metadata": {
        "colab": {
          "base_uri": "https://localhost:8080/",
          "height": 455
        },
        "id": "s0N5hFzHx_SP",
        "outputId": "6ee82904-68e3-4173-ab34-8b2882d2b1e7"
      },
      "id": "s0N5hFzHx_SP",
      "execution_count": null,
      "outputs": [
        {
          "output_type": "execute_result",
          "data": {
            "text/plain": [
              "             brand_revenue\n",
              "Brand                     \n",
              "1Oak               1015.40\n",
              "3A Autocare       55647.90\n",
              "3D Mat             5249.25\n",
              "3Kfactory           156.60\n",
              "4D                 5961.00\n",
              "...                    ...\n",
              "Zorden             2099.25\n",
              "Zosign             5246.25\n",
              "Zrestha             674.25\n",
              "Zyxel             26544.00\n",
              " Tarkan             314.10\n",
              "\n",
              "[2484 rows x 1 columns]"
            ],
            "text/html": [
              "\n",
              "  <div id=\"df-5fd4d607-b844-432e-be71-990069927bc9\">\n",
              "    <div class=\"colab-df-container\">\n",
              "      <div>\n",
              "<style scoped>\n",
              "    .dataframe tbody tr th:only-of-type {\n",
              "        vertical-align: middle;\n",
              "    }\n",
              "\n",
              "    .dataframe tbody tr th {\n",
              "        vertical-align: top;\n",
              "    }\n",
              "\n",
              "    .dataframe thead th {\n",
              "        text-align: right;\n",
              "    }\n",
              "</style>\n",
              "<table border=\"1\" class=\"dataframe\">\n",
              "  <thead>\n",
              "    <tr style=\"text-align: right;\">\n",
              "      <th></th>\n",
              "      <th>brand_revenue</th>\n",
              "    </tr>\n",
              "    <tr>\n",
              "      <th>Brand</th>\n",
              "      <th></th>\n",
              "    </tr>\n",
              "  </thead>\n",
              "  <tbody>\n",
              "    <tr>\n",
              "      <th>1Oak</th>\n",
              "      <td>1015.40</td>\n",
              "    </tr>\n",
              "    <tr>\n",
              "      <th>3A Autocare</th>\n",
              "      <td>55647.90</td>\n",
              "    </tr>\n",
              "    <tr>\n",
              "      <th>3D Mat</th>\n",
              "      <td>5249.25</td>\n",
              "    </tr>\n",
              "    <tr>\n",
              "      <th>3Kfactory</th>\n",
              "      <td>156.60</td>\n",
              "    </tr>\n",
              "    <tr>\n",
              "      <th>4D</th>\n",
              "      <td>5961.00</td>\n",
              "    </tr>\n",
              "    <tr>\n",
              "      <th>...</th>\n",
              "      <td>...</td>\n",
              "    </tr>\n",
              "    <tr>\n",
              "      <th>Zorden</th>\n",
              "      <td>2099.25</td>\n",
              "    </tr>\n",
              "    <tr>\n",
              "      <th>Zosign</th>\n",
              "      <td>5246.25</td>\n",
              "    </tr>\n",
              "    <tr>\n",
              "      <th>Zrestha</th>\n",
              "      <td>674.25</td>\n",
              "    </tr>\n",
              "    <tr>\n",
              "      <th>Zyxel</th>\n",
              "      <td>26544.00</td>\n",
              "    </tr>\n",
              "    <tr>\n",
              "      <th>Tarkan</th>\n",
              "      <td>314.10</td>\n",
              "    </tr>\n",
              "  </tbody>\n",
              "</table>\n",
              "<p>2484 rows × 1 columns</p>\n",
              "</div>\n",
              "      <button class=\"colab-df-convert\" onclick=\"convertToInteractive('df-5fd4d607-b844-432e-be71-990069927bc9')\"\n",
              "              title=\"Convert this dataframe to an interactive table.\"\n",
              "              style=\"display:none;\">\n",
              "        \n",
              "  <svg xmlns=\"http://www.w3.org/2000/svg\" height=\"24px\"viewBox=\"0 0 24 24\"\n",
              "       width=\"24px\">\n",
              "    <path d=\"M0 0h24v24H0V0z\" fill=\"none\"/>\n",
              "    <path d=\"M18.56 5.44l.94 2.06.94-2.06 2.06-.94-2.06-.94-.94-2.06-.94 2.06-2.06.94zm-11 1L8.5 8.5l.94-2.06 2.06-.94-2.06-.94L8.5 2.5l-.94 2.06-2.06.94zm10 10l.94 2.06.94-2.06 2.06-.94-2.06-.94-.94-2.06-.94 2.06-2.06.94z\"/><path d=\"M17.41 7.96l-1.37-1.37c-.4-.4-.92-.59-1.43-.59-.52 0-1.04.2-1.43.59L10.3 9.45l-7.72 7.72c-.78.78-.78 2.05 0 2.83L4 21.41c.39.39.9.59 1.41.59.51 0 1.02-.2 1.41-.59l7.78-7.78 2.81-2.81c.8-.78.8-2.07 0-2.86zM5.41 20L4 18.59l7.72-7.72 1.47 1.35L5.41 20z\"/>\n",
              "  </svg>\n",
              "      </button>\n",
              "      \n",
              "  <style>\n",
              "    .colab-df-container {\n",
              "      display:flex;\n",
              "      flex-wrap:wrap;\n",
              "      gap: 12px;\n",
              "    }\n",
              "\n",
              "    .colab-df-convert {\n",
              "      background-color: #E8F0FE;\n",
              "      border: none;\n",
              "      border-radius: 50%;\n",
              "      cursor: pointer;\n",
              "      display: none;\n",
              "      fill: #1967D2;\n",
              "      height: 32px;\n",
              "      padding: 0 0 0 0;\n",
              "      width: 32px;\n",
              "    }\n",
              "\n",
              "    .colab-df-convert:hover {\n",
              "      background-color: #E2EBFA;\n",
              "      box-shadow: 0px 1px 2px rgba(60, 64, 67, 0.3), 0px 1px 3px 1px rgba(60, 64, 67, 0.15);\n",
              "      fill: #174EA6;\n",
              "    }\n",
              "\n",
              "    [theme=dark] .colab-df-convert {\n",
              "      background-color: #3B4455;\n",
              "      fill: #D2E3FC;\n",
              "    }\n",
              "\n",
              "    [theme=dark] .colab-df-convert:hover {\n",
              "      background-color: #434B5C;\n",
              "      box-shadow: 0px 1px 3px 1px rgba(0, 0, 0, 0.15);\n",
              "      filter: drop-shadow(0px 1px 2px rgba(0, 0, 0, 0.3));\n",
              "      fill: #FFFFFF;\n",
              "    }\n",
              "  </style>\n",
              "\n",
              "      <script>\n",
              "        const buttonEl =\n",
              "          document.querySelector('#df-5fd4d607-b844-432e-be71-990069927bc9 button.colab-df-convert');\n",
              "        buttonEl.style.display =\n",
              "          google.colab.kernel.accessAllowed ? 'block' : 'none';\n",
              "\n",
              "        async function convertToInteractive(key) {\n",
              "          const element = document.querySelector('#df-5fd4d607-b844-432e-be71-990069927bc9');\n",
              "          const dataTable =\n",
              "            await google.colab.kernel.invokeFunction('convertToInteractive',\n",
              "                                                     [key], {});\n",
              "          if (!dataTable) return;\n",
              "\n",
              "          const docLinkHtml = 'Like what you see? Visit the ' +\n",
              "            '<a target=\"_blank\" href=https://colab.research.google.com/notebooks/data_table.ipynb>data table notebook</a>'\n",
              "            + ' to learn more about interactive tables.';\n",
              "          element.innerHTML = '';\n",
              "          dataTable['output_type'] = 'display_data';\n",
              "          await google.colab.output.renderOutput(dataTable, element);\n",
              "          const docLink = document.createElement('div');\n",
              "          docLink.innerHTML = docLinkHtml;\n",
              "          element.appendChild(docLink);\n",
              "        }\n",
              "      </script>\n",
              "    </div>\n",
              "  </div>\n",
              "  "
            ]
          },
          "metadata": {},
          "execution_count": 33
        }
      ]
    },
    {
      "cell_type": "markdown",
      "id": "2a2bbd83",
      "metadata": {
        "id": "2a2bbd83"
      },
      "source": [
        "<font color='blue'>\n",
        "    <font size = 5>\n",
        "Let us now investigate multiple features for each product to determine any pattern.\n",
        "</font>"
      ]
    },
    {
      "cell_type": "markdown",
      "id": "1aa1834b",
      "metadata": {
        "id": "1aa1834b"
      },
      "source": [
        "## Q 7. Compare prices for each product.\n",
        "\n",
        "## a)\tDraw boxplots of retail_price & discounted_price. (3 marks)\n",
        "\n",
        "## b)\t Are there any outliers? (Yes/No) (1mark)\n",
        "\n",
        "## c)\tCreate a scatterplot of retail_price (x-axis) and discounted_price (y-axis) (3 marks)\n"
      ]
    },
    {
      "cell_type": "markdown",
      "id": "d5aae861",
      "metadata": {
        "id": "d5aae861"
      },
      "source": [
        "### Ans 7 a)"
      ]
    },
    {
      "cell_type": "code",
      "execution_count": null,
      "id": "510fd4d0",
      "metadata": {
        "id": "510fd4d0",
        "colab": {
          "base_uri": "https://localhost:8080/",
          "height": 296
        },
        "outputId": "4398146a-1881-46bd-e8f5-0205565c59c9"
      },
      "outputs": [
        {
          "output_type": "display_data",
          "data": {
            "text/plain": [
              "<Figure size 432x288 with 1 Axes>"
            ],
            "image/png": "[encoded data removed]"
          },
          "metadata": {
            "needs_background": "light"
          }
        }
      ],
      "source": [
        "plt.title('Boxplot: Retail_Price')\n",
        "plt.xlim(30,19000)\n",
        "sns.boxplot(data=ECom_Data, x='retail_price');"
      ]
    },
    {
      "cell_type": "code",
      "source": [
        "plt.title('Boxplot: Discounted_price')\n",
        "plt.xlim(30,19000)\n",
        "sns.boxplot(data=ECom_Data, x='discounted_price');"
      ],
      "metadata": {
        "colab": {
          "base_uri": "https://localhost:8080/",
          "height": 296
        },
        "id": "H8u0rz3rSIER",
        "outputId": "7bbe618c-0577-4e43-b50d-757829790e64"
      },
      "id": "H8u0rz3rSIER",
      "execution_count": null,
      "outputs": [
        {
          "output_type": "display_data",
          "data": {
            "text/plain": [
              "<Figure size 432x288 with 1 Axes>"
            ],
            "image/png": "[encoded data removed]"
          },
          "metadata": {
            "needs_background": "light"
          }
        }
      ]
    },
    {
      "cell_type": "markdown",
      "source": [
        "ANS 7 B) YES "
      ],
      "metadata": {
        "id": "CWHxONVnsu4K"
      },
      "id": "CWHxONVnsu4K"
    },
    {
      "cell_type": "markdown",
      "id": "0389c9b8",
      "metadata": {
        "id": "0389c9b8"
      },
      "source": [
        "### Ans 7 c)"
      ]
    },
    {
      "cell_type": "code",
      "execution_count": null,
      "id": "d8c44be9",
      "metadata": {
        "id": "d8c44be9",
        "colab": {
          "base_uri": "https://localhost:8080/",
          "height": 281
        },
        "outputId": "69d8770b-ec9d-4962-c8a2-70db804ee369"
      },
      "outputs": [
        {
          "output_type": "display_data",
          "data": {
            "text/plain": [
              "<Figure size 432x288 with 1 Axes>"
            ],
            "image/png": "[encoded data removed]"
          },
          "metadata": {
            "needs_background": "light"
          }
        }
      ],
      "source": [
        "sns.scatterplot(data=ECom_Data, x='retail_price', y='discounted_price');"
      ]
    },
    {
      "cell_type": "markdown",
      "id": "3bc47f55",
      "metadata": {
        "id": "3bc47f55"
      },
      "source": [
        "<font color='blue'>\n",
        "    <font size = 5>\n",
        "    The next steps will enable to study brand-level information.\n",
        "    </font>"
      ]
    },
    {
      "cell_type": "markdown",
      "id": "b9bd00f7",
      "metadata": {
        "id": "b9bd00f7"
      },
      "source": [
        "## Q 8. Create a new dataframe to include the Brand specific information as stated:\n",
        "## i.\ttotal number of orders placed per Brand\n",
        "## ii.\ttotal retail_price per Brand\n",
        "## iii.\ttotal discounted_price per Brand, and \n",
        "## iv.\ttotal BrandRevenue generated per Brand. \n",
        "\n",
        "## Also, draw a pairplot using these four features. (6 marks)\n"
      ]
    },
    {
      "cell_type": "markdown",
      "id": "8f83cea9",
      "metadata": {
        "id": "8f83cea9"
      },
      "source": [
        "### Ans 8"
      ]
    },
    {
      "cell_type": "code",
      "execution_count": 101,
      "id": "ae749847",
      "metadata": {
        "id": "ae749847"
      },
      "outputs": [],
      "source": [
        "Brand_Info=pd.DataFrame(ECom_Data.groupby(ECom_Data['Brand'].str.title()))\n",
        "Brand_Info['order_count']=ECom_Data.groupby(ECom_Data['Brand'].str.title())\n",
        "Brand_Info['retail_price']=ECom_Data.groupby(ECom_Data['Brand'].str.title())\n",
        "Brand_Info['discounted_price']=ECom_Data.groupby(ECom_Data['Brand'].str.title())\n",
        "Brand_Info['brand_revenue']=ECom_Data.groupby(ECom_Data['Brand'].str.title()) \n",
        "\n"
      ]
    },
    {
      "cell_type": "code",
      "source": [
        "Brand_Info.info()"
      ],
      "metadata": {
        "colab": {
          "base_uri": "https://localhost:8080/"
        },
        "id": "1YF3Zv8awkbW",
        "outputId": "c1e3f853-68d0-4440-bab8-9433b5a5305f"
      },
      "id": "1YF3Zv8awkbW",
      "execution_count": 102,
      "outputs": [
        {
          "output_type": "stream",
          "name": "stdout",
          "text": [
            "<class 'pandas.core.frame.DataFrame'>\n",
            "RangeIndex: 2484 entries, 0 to 2483\n",
            "Data columns (total 6 columns):\n",
            " #   Column            Non-Null Count  Dtype \n",
            "---  ------            --------------  ----- \n",
            " 0   0                 2484 non-null   object\n",
            " 1   1                 2484 non-null   object\n",
            " 2   order_count       2484 non-null   object\n",
            " 3   retail_price      2484 non-null   object\n",
            " 4   discounted_price  2484 non-null   object\n",
            " 5   brand_revenue     2484 non-null   object\n",
            "dtypes: object(6)\n",
            "memory usage: 116.6+ KB\n"
          ]
        }
      ]
    },
    {
      "cell_type": "code",
      "source": [
        "sns.pairplot(data=Brand_Info[['order_count','retail_price','discounted_price','brand_revenue']])"
      ],
      "metadata": {
        "id": "xRjL9CuTloHX"
      },
      "execution_count": null,
      "outputs": [],
      "id": "xRjL9CuTloHX"
    },
    {
      "cell_type": "markdown",
      "id": "ecec83f4",
      "metadata": {
        "id": "ecec83f4"
      },
      "source": [
        "<font color='blue'>\n",
        "    <font size = 5>\n",
        "    The E-Commerce company operate in multiple regions. It is important to understand its performance in each region.\n",
        "    </font>"
      ]
    },
    {
      "cell_type": "markdown",
      "id": "dd09b8aa",
      "metadata": {
        "id": "dd09b8aa"
      },
      "source": [
        "## Q 9.Compare performance regionwise\n",
        "\n",
        "## a)\tDraw a lineplot for the monthly Revenue of E-Commerce Company for each region separately.  (4 marks) \n",
        "\n",
        "## b)\tIdentify the best and the worst performing months for each region. (2 marks)\n",
        "\n",
        "#### Note: Only those days with actual orders(Order_Date) placed are present in the dataset. Assuming there were no orders on other days. Also, show Month and Year on x-axis."
      ]
    },
    {
      "cell_type": "markdown",
      "id": "e6d64aea",
      "metadata": {
        "id": "e6d64aea"
      },
      "source": [
        "### Ans 9 a)"
      ]
    },
    {
      "cell_type": "code",
      "execution_count": null,
      "id": "d9a4f534",
      "metadata": {
        "id": "d9a4f534"
      },
      "outputs": [],
      "source": [
        "ECom_Data['Region']=ECom_Data['Region'].str.strip()\n",
        "ECom_Data['Order_Date']=pd.to_datetime(ECom_Data['Order_Date'],dayfirst=True)\n",
        "ECom_Data['Order_Date_Year']=ECom_Data['Order_Date'].dt.year\n",
        "ECom_Data['Order_Date_Month']=ECom_Data['Order_Date'].dt.month\n",
        "ECom_Data['Order_Date_Year_Month']=ECom_Data['Order_Date'].dt.strftime('%Y-%m')"
      ]
    },
    {
      "cell_type": "code",
      "source": [
        "ECom_Data.info()"
      ],
      "metadata": {
        "colab": {
          "base_uri": "https://localhost:8080/"
        },
        "id": "D373Jzti_nm2",
        "outputId": "7a0948fc-3f61-43a7-c67b-41fe86b32cbb"
      },
      "id": "D373Jzti_nm2",
      "execution_count": null,
      "outputs": [
        {
          "output_type": "stream",
          "name": "stdout",
          "text": [
            "<class 'pandas.core.frame.DataFrame'>\n",
            "RangeIndex: 8906 entries, 0 to 8905\n",
            "Data columns (total 20 columns):\n",
            " #   Column                      Non-Null Count  Dtype         \n",
            "---  ------                      --------------  -----         \n",
            " 0   Customer_uniq_id            8906 non-null   object        \n",
            " 1   Region                      8906 non-null   object        \n",
            " 2   Order_Date                  8906 non-null   datetime64[ns]\n",
            " 3   Expected_Delivery_Date      8906 non-null   object        \n",
            " 4   Delivered_Date              8906 non-null   object        \n",
            " 5   product_name                8906 non-null   object        \n",
            " 6   product_main_category       8906 non-null   object        \n",
            " 7   product_subcategory         8906 non-null   object        \n",
            " 8   product_category_filter     8906 non-null   object        \n",
            " 9   product_category_subfilter  8906 non-null   object        \n",
            " 10  product_unique ID           8906 non-null   object        \n",
            " 11  retail_price                8906 non-null   int64         \n",
            " 12  discounted_price            8906 non-null   int64         \n",
            " 13  product_rating              8906 non-null   float64       \n",
            " 14  Brand                       8906 non-null   object        \n",
            " 15  comp_charges                8906 non-null   float64       \n",
            " 16  brand_revenue               8906 non-null   float64       \n",
            " 17  Order_Date_Year             8906 non-null   int64         \n",
            " 18  Order_Date_Month            8906 non-null   int64         \n",
            " 19  Order_Date_Year_Month       8906 non-null   object        \n",
            "dtypes: datetime64[ns](1), float64(3), int64(4), object(12)\n",
            "memory usage: 1.4+ MB\n"
          ]
        }
      ]
    },
    {
      "cell_type": "code",
      "source": [
        "plt.figure(figsize=(20,10))\n",
        "sns.lineplot(data=ECom_Data.sort_values)(by='Order_Date_Year_Month') x= 'Order_Date_y'\n",
        "\n"
      ],
      "metadata": {
        "id": "SZLr2Wq2_6Cb"
      },
      "id": "SZLr2Wq2_6Cb",
      "execution_count": null,
      "outputs": []
    },
    {
      "cell_type": "markdown",
      "id": "dac59dc4",
      "metadata": {
        "id": "dac59dc4"
      },
      "source": [
        "### Ans 9 b)"
      ]
    },
    {
      "cell_type": "code",
      "execution_count": null,
      "id": "9f569635",
      "metadata": {
        "id": "9f569635"
      },
      "outputs": [],
      "source": []
    },
    {
      "cell_type": "markdown",
      "id": "dcb8d39f",
      "metadata": {
        "id": "dcb8d39f"
      },
      "source": [
        "<font color='blue'>\n",
        "    <font size = 5>\n",
        "    Congratulations! You have learnt how to approach a complex data and extract information out of it. \n",
        "    </font>"
      ]
    }
  ],
  "metadata": {
    "kernelspec": {
      "display_name": "Python 3",
      "language": "python",
      "name": "python3"
    },
    "language_info": {
      "codemirror_mode": {
        "name": "ipython",
        "version": 3
      },
      "file_extension": ".py",
      "mimetype": "text/x-python",
      "name": "python",
      "nbconvert_exporter": "python",
      "pygments_lexer": "ipython3",
      "version": "3.8.8"
    },
    "colab": {
      "provenance": [],
      "collapsed_sections": [
        "6a7d5404",
        "48baeda6",
        "6aaa54a0",
        "5e63573c",
        "e0e7e762",
        "e6159f6a",
        "13a5b355",
        "4ea60c92",
        "a9f81605"
      ]
    }
  },
  "nbformat": 4,
  "nbformat_minor": 5
}