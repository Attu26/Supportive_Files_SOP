{
  "nbformat": 4,
  "nbformat_minor": 0,
  "metadata": {
    "colab": {
      "provenance": []
    },
    "kernelspec": {
      "name": "python3",
      "display_name": "Python 3"
    },
    "language_info": {
      "name": "python"
    }
  },
  "cells": [
    {
      "cell_type": "code",
      "execution_count": 1,
      "metadata": {
        "id": "E3dwDAFNSBgH"
      },
      "outputs": [],
      "source": [
        "import numpy as np\n",
        "import pandas as pd\n",
        "import seaborn as sns\n",
        "from statsmodels.formula.api import ols      # For n-way ANOVA\n",
        "from statsmodels.stats.anova import _get_covariance,anova_lm # For n-way ANOVA\n",
        "%matplotlib inline\n",
        "import scipy.stats as stats"
      ]
    },
    {
      "cell_type": "markdown",
      "source": [
        "Salary is hypothesised to depend on educational qualification and occupation. To understand the dependency, the salaries of 40 individuals  are collected and each person’s educational qualification and occupation are noted. Educational qualification is at three levels, High school graduate, Bachelor's, and Doctorate. Occupation is at four levels, Administrative and clerical, Sales, Professional or specialty, and Executive or managerial. A different number of observations are in each level of education – occupation combination."
      ],
      "metadata": {
        "id": "ATs5rNJ6SGdv"
      }
    },
    {
      "cell_type": "markdown",
      "source": [
        "Assume that the data follows a normal distribution. In reality, the normality assumption may not always hold if the sample size is small.\n"
      ],
      "metadata": {
        "id": "X1yFAEvWSUE9"
      }
    },
    {
      "cell_type": "code",
      "source": [
        "DF = pd.read_csv('/content/SalaryData.csv')"
      ],
      "metadata": {
        "id": "25UurihwS4PK"
      },
      "execution_count": 2,
      "outputs": []
    },
    {
      "cell_type": "code",
      "source": [
        "DF.info()"
      ],
      "metadata": {
        "colab": {
          "base_uri": "https://localhost:8080/"
        },
        "id": "dmG-7HneTE9T",
        "outputId": "efb05d93-ef6d-4ef0-c77b-4fce4bd0227e"
      },
      "execution_count": 3,
      "outputs": [
        {
          "output_type": "stream",
          "name": "stdout",
          "text": [
            "<class 'pandas.core.frame.DataFrame'>\n",
            "RangeIndex: 40 entries, 0 to 39\n",
            "Data columns (total 3 columns):\n",
            " #   Column      Non-Null Count  Dtype \n",
            "---  ------      --------------  ----- \n",
            " 0   Education   40 non-null     object\n",
            " 1   Occupation  40 non-null     object\n",
            " 2   Salary      40 non-null     int64 \n",
            "dtypes: int64(1), object(2)\n",
            "memory usage: 1.1+ KB\n"
          ]
        }
      ]
    },
    {
      "cell_type": "code",
      "source": [
        "DF.head()"
      ],
      "metadata": {
        "colab": {
          "base_uri": "https://localhost:8080/",
          "height": 206
        },
        "id": "U93xrOMS6Ddq",
        "outputId": "e722fc95-d25c-4ca8-804f-03bc1305ddbd"
      },
      "execution_count": 4,
      "outputs": [
        {
          "output_type": "execute_result",
          "data": {
            "text/plain": [
              "    Education     Occupation  Salary\n",
              "0   Doctorate   Adm-clerical  153197\n",
              "1   Doctorate   Adm-clerical  115945\n",
              "2   Doctorate   Adm-clerical  175935\n",
              "3   Doctorate   Adm-clerical  220754\n",
              "4   Doctorate          Sales  170769"
            ],
            "text/html": [
              "\n",
              "  <div id=\"df-5d216ba5-35a7-4733-9dff-f14f630b948e\" class=\"colab-df-container\">\n",
              "    <div>\n",
              "<style scoped>\n",
              "    .dataframe tbody tr th:only-of-type {\n",
              "        vertical-align: middle;\n",
              "    }\n",
              "\n",
              "    .dataframe tbody tr th {\n",
              "        vertical-align: top;\n",
              "    }\n",
              "\n",
              "    .dataframe thead th {\n",
              "        text-align: right;\n",
              "    }\n",
              "</style>\n",
              "<table border=\"1\" class=\"dataframe\">\n",
              "  <thead>\n",
              "    <tr style=\"text-align: right;\">\n",
              "      <th></th>\n",
              "      <th>Education</th>\n",
              "      <th>Occupation</th>\n",
              "      <th>Salary</th>\n",
              "    </tr>\n",
              "  </thead>\n",
              "  <tbody>\n",
              "    <tr>\n",
              "      <th>0</th>\n",
              "      <td>Doctorate</td>\n",
              "      <td>Adm-clerical</td>\n",
              "      <td>153197</td>\n",
              "    </tr>\n",
              "    <tr>\n",
              "      <th>1</th>\n",
              "      <td>Doctorate</td>\n",
              "      <td>Adm-clerical</td>\n",
              "      <td>115945</td>\n",
              "    </tr>\n",
              "    <tr>\n",
              "      <th>2</th>\n",
              "      <td>Doctorate</td>\n",
              "      <td>Adm-clerical</td>\n",
              "      <td>175935</td>\n",
              "    </tr>\n",
              "    <tr>\n",
              "      <th>3</th>\n",
              "      <td>Doctorate</td>\n",
              "      <td>Adm-clerical</td>\n",
              "      <td>220754</td>\n",
              "    </tr>\n",
              "    <tr>\n",
              "      <th>4</th>\n",
              "      <td>Doctorate</td>\n",
              "      <td>Sales</td>\n",
              "      <td>170769</td>\n",
              "    </tr>\n",
              "  </tbody>\n",
              "</table>\n",
              "</div>\n",
              "    <div class=\"colab-df-buttons\">\n",
              "\n",
              "  <div class=\"colab-df-container\">\n",
              "    <button class=\"colab-df-convert\" onclick=\"convertToInteractive('df-5d216ba5-35a7-4733-9dff-f14f630b948e')\"\n",
              "            title=\"Convert this dataframe to an interactive table.\"\n",
              "            style=\"display:none;\">\n",
              "\n",
              "  <svg xmlns=\"http://www.w3.org/2000/svg\" height=\"24px\" viewBox=\"0 -960 960 960\">\n",
              "    <path d=\"M120-120v-720h720v720H120Zm60-500h600v-160H180v160Zm220 220h160v-160H400v160Zm0 220h160v-160H400v160ZM180-400h160v-160H180v160Zm440 0h160v-160H620v160ZM180-180h160v-160H180v160Zm440 0h160v-160H620v160Z\"/>\n",
              "  </svg>\n",
              "    </button>\n",
              "\n",
              "  <style>\n",
              "    .colab-df-container {\n",
              "      display:flex;\n",
              "      gap: 12px;\n",
              "    }\n",
              "\n",
              "    .colab-df-convert {\n",
              "      background-color: #E8F0FE;\n",
              "      border: none;\n",
              "      border-radius: 50%;\n",
              "      cursor: pointer;\n",
              "      display: none;\n",
              "      fill: #1967D2;\n",
              "      height: 32px;\n",
              "      padding: 0 0 0 0;\n",
              "      width: 32px;\n",
              "    }\n",
              "\n",
              "    .colab-df-convert:hover {\n",
              "      background-color: #E2EBFA;\n",
              "      box-shadow: 0px 1px 2px rgba(60, 64, 67, 0.3), 0px 1px 3px 1px rgba(60, 64, 67, 0.15);\n",
              "      fill: #174EA6;\n",
              "    }\n",
              "\n",
              "    .colab-df-buttons div {\n",
              "      margin-bottom: 4px;\n",
              "    }\n",
              "\n",
              "    [theme=dark] .colab-df-convert {\n",
              "      background-color: #3B4455;\n",
              "      fill: #D2E3FC;\n",
              "    }\n",
              "\n",
              "    [theme=dark] .colab-df-convert:hover {\n",
              "      background-color: #434B5C;\n",
              "      box-shadow: 0px 1px 3px 1px rgba(0, 0, 0, 0.15);\n",
              "      filter: drop-shadow(0px 1px 2px rgba(0, 0, 0, 0.3));\n",
              "      fill: #FFFFFF;\n",
              "    }\n",
              "  </style>\n",
              "\n",
              "    <script>\n",
              "      const buttonEl =\n",
              "        document.querySelector('#df-5d216ba5-35a7-4733-9dff-f14f630b948e button.colab-df-convert');\n",
              "      buttonEl.style.display =\n",
              "        google.colab.kernel.accessAllowed ? 'block' : 'none';\n",
              "\n",
              "      async function convertToInteractive(key) {\n",
              "        const element = document.querySelector('#df-5d216ba5-35a7-4733-9dff-f14f630b948e');\n",
              "        const dataTable =\n",
              "          await google.colab.kernel.invokeFunction('convertToInteractive',\n",
              "                                                    [key], {});\n",
              "        if (!dataTable) return;\n",
              "\n",
              "        const docLinkHtml = 'Like what you see? Visit the ' +\n",
              "          '<a target=\"_blank\" href=https://colab.research.google.com/notebooks/data_table.ipynb>data table notebook</a>'\n",
              "          + ' to learn more about interactive tables.';\n",
              "        element.innerHTML = '';\n",
              "        dataTable['output_type'] = 'display_data';\n",
              "        await google.colab.output.renderOutput(dataTable, element);\n",
              "        const docLink = document.createElement('div');\n",
              "        docLink.innerHTML = docLinkHtml;\n",
              "        element.appendChild(docLink);\n",
              "      }\n",
              "    </script>\n",
              "  </div>\n",
              "\n",
              "\n",
              "<div id=\"df-2a232d76-7be3-452f-82f0-5bc63e410a26\">\n",
              "  <button class=\"colab-df-quickchart\" onclick=\"quickchart('df-2a232d76-7be3-452f-82f0-5bc63e410a26')\"\n",
              "            title=\"Suggest charts.\"\n",
              "            style=\"display:none;\">\n",
              "\n",
              "<svg xmlns=\"http://www.w3.org/2000/svg\" height=\"24px\"viewBox=\"0 0 24 24\"\n",
              "     width=\"24px\">\n",
              "    <g>\n",
              "        <path d=\"M19 3H5c-1.1 0-2 .9-2 2v14c0 1.1.9 2 2 2h14c1.1 0 2-.9 2-2V5c0-1.1-.9-2-2-2zM9 17H7v-7h2v7zm4 0h-2V7h2v10zm4 0h-2v-4h2v4z\"/>\n",
              "    </g>\n",
              "</svg>\n",
              "  </button>\n",
              "\n",
              "<style>\n",
              "  .colab-df-quickchart {\n",
              "    background-color: #E8F0FE;\n",
              "    border: none;\n",
              "    border-radius: 50%;\n",
              "    cursor: pointer;\n",
              "    display: none;\n",
              "    fill: #1967D2;\n",
              "    height: 32px;\n",
              "    padding: 0 0 0 0;\n",
              "    width: 32px;\n",
              "  }\n",
              "\n",
              "  .colab-df-quickchart:hover {\n",
              "    background-color: #E2EBFA;\n",
              "    box-shadow: 0px 1px 2px rgba(60, 64, 67, 0.3), 0px 1px 3px 1px rgba(60, 64, 67, 0.15);\n",
              "    fill: #174EA6;\n",
              "  }\n",
              "\n",
              "  [theme=dark] .colab-df-quickchart {\n",
              "    background-color: #3B4455;\n",
              "    fill: #D2E3FC;\n",
              "  }\n",
              "\n",
              "  [theme=dark] .colab-df-quickchart:hover {\n",
              "    background-color: #434B5C;\n",
              "    box-shadow: 0px 1px 3px 1px rgba(0, 0, 0, 0.15);\n",
              "    filter: drop-shadow(0px 1px 2px rgba(0, 0, 0, 0.3));\n",
              "    fill: #FFFFFF;\n",
              "  }\n",
              "</style>\n",
              "\n",
              "  <script>\n",
              "    async function quickchart(key) {\n",
              "      const charts = await google.colab.kernel.invokeFunction(\n",
              "          'suggestCharts', [key], {});\n",
              "    }\n",
              "    (() => {\n",
              "      let quickchartButtonEl =\n",
              "        document.querySelector('#df-2a232d76-7be3-452f-82f0-5bc63e410a26 button');\n",
              "      quickchartButtonEl.style.display =\n",
              "        google.colab.kernel.accessAllowed ? 'block' : 'none';\n",
              "    })();\n",
              "  </script>\n",
              "</div>\n",
              "    </div>\n",
              "  </div>\n"
            ]
          },
          "metadata": {},
          "execution_count": 4
        }
      ]
    },
    {
      "cell_type": "code",
      "source": [
        "DF.shape"
      ],
      "metadata": {
        "colab": {
          "base_uri": "https://localhost:8080/"
        },
        "id": "uAqTOIpt7Rsj",
        "outputId": "fc3bc247-c949-4c6e-ce1f-6215e1aaaeb1"
      },
      "execution_count": 5,
      "outputs": [
        {
          "output_type": "execute_result",
          "data": {
            "text/plain": [
              "(40, 3)"
            ]
          },
          "metadata": {},
          "execution_count": 5
        }
      ]
    },
    {
      "cell_type": "code",
      "source": [
        "DF.describe()"
      ],
      "metadata": {
        "colab": {
          "base_uri": "https://localhost:8080/",
          "height": 300
        },
        "id": "HV6CpGfY7vJl",
        "outputId": "4ae539b5-5101-4687-83ad-85392d3cb4fa"
      },
      "execution_count": 8,
      "outputs": [
        {
          "output_type": "execute_result",
          "data": {
            "text/plain": [
              "              Salary\n",
              "count      40.000000\n",
              "mean   162186.875000\n",
              "std     64860.407506\n",
              "min     50103.000000\n",
              "25%     99897.500000\n",
              "50%    169100.000000\n",
              "75%    214440.750000\n",
              "max    260151.000000"
            ],
            "text/html": [
              "\n",
              "  <div id=\"df-65e67b59-1db3-4dbe-b8a5-c64f65fcd46e\" class=\"colab-df-container\">\n",
              "    <div>\n",
              "<style scoped>\n",
              "    .dataframe tbody tr th:only-of-type {\n",
              "        vertical-align: middle;\n",
              "    }\n",
              "\n",
              "    .dataframe tbody tr th {\n",
              "        vertical-align: top;\n",
              "    }\n",
              "\n",
              "    .dataframe thead th {\n",
              "        text-align: right;\n",
              "    }\n",
              "</style>\n",
              "<table border=\"1\" class=\"dataframe\">\n",
              "  <thead>\n",
              "    <tr style=\"text-align: right;\">\n",
              "      <th></th>\n",
              "      <th>Salary</th>\n",
              "    </tr>\n",
              "  </thead>\n",
              "  <tbody>\n",
              "    <tr>\n",
              "      <th>count</th>\n",
              "      <td>40.000000</td>\n",
              "    </tr>\n",
              "    <tr>\n",
              "      <th>mean</th>\n",
              "      <td>162186.875000</td>\n",
              "    </tr>\n",
              "    <tr>\n",
              "      <th>std</th>\n",
              "      <td>64860.407506</td>\n",
              "    </tr>\n",
              "    <tr>\n",
              "      <th>min</th>\n",
              "      <td>50103.000000</td>\n",
              "    </tr>\n",
              "    <tr>\n",
              "      <th>25%</th>\n",
              "      <td>99897.500000</td>\n",
              "    </tr>\n",
              "    <tr>\n",
              "      <th>50%</th>\n",
              "      <td>169100.000000</td>\n",
              "    </tr>\n",
              "    <tr>\n",
              "      <th>75%</th>\n",
              "      <td>214440.750000</td>\n",
              "    </tr>\n",
              "    <tr>\n",
              "      <th>max</th>\n",
              "      <td>260151.000000</td>\n",
              "    </tr>\n",
              "  </tbody>\n",
              "</table>\n",
              "</div>\n",
              "    <div class=\"colab-df-buttons\">\n",
              "\n",
              "  <div class=\"colab-df-container\">\n",
              "    <button class=\"colab-df-convert\" onclick=\"convertToInteractive('df-65e67b59-1db3-4dbe-b8a5-c64f65fcd46e')\"\n",
              "            title=\"Convert this dataframe to an interactive table.\"\n",
              "            style=\"display:none;\">\n",
              "\n",
              "  <svg xmlns=\"http://www.w3.org/2000/svg\" height=\"24px\" viewBox=\"0 -960 960 960\">\n",
              "    <path d=\"M120-120v-720h720v720H120Zm60-500h600v-160H180v160Zm220 220h160v-160H400v160Zm0 220h160v-160H400v160ZM180-400h160v-160H180v160Zm440 0h160v-160H620v160ZM180-180h160v-160H180v160Zm440 0h160v-160H620v160Z\"/>\n",
              "  </svg>\n",
              "    </button>\n",
              "\n",
              "  <style>\n",
              "    .colab-df-container {\n",
              "      display:flex;\n",
              "      gap: 12px;\n",
              "    }\n",
              "\n",
              "    .colab-df-convert {\n",
              "      background-color: #E8F0FE;\n",
              "      border: none;\n",
              "      border-radius: 50%;\n",
              "      cursor: pointer;\n",
              "      display: none;\n",
              "      fill: #1967D2;\n",
              "      height: 32px;\n",
              "      padding: 0 0 0 0;\n",
              "      width: 32px;\n",
              "    }\n",
              "\n",
              "    .colab-df-convert:hover {\n",
              "      background-color: #E2EBFA;\n",
              "      box-shadow: 0px 1px 2px rgba(60, 64, 67, 0.3), 0px 1px 3px 1px rgba(60, 64, 67, 0.15);\n",
              "      fill: #174EA6;\n",
              "    }\n",
              "\n",
              "    .colab-df-buttons div {\n",
              "      margin-bottom: 4px;\n",
              "    }\n",
              "\n",
              "    [theme=dark] .colab-df-convert {\n",
              "      background-color: #3B4455;\n",
              "      fill: #D2E3FC;\n",
              "    }\n",
              "\n",
              "    [theme=dark] .colab-df-convert:hover {\n",
              "      background-color: #434B5C;\n",
              "      box-shadow: 0px 1px 3px 1px rgba(0, 0, 0, 0.15);\n",
              "      filter: drop-shadow(0px 1px 2px rgba(0, 0, 0, 0.3));\n",
              "      fill: #FFFFFF;\n",
              "    }\n",
              "  </style>\n",
              "\n",
              "    <script>\n",
              "      const buttonEl =\n",
              "        document.querySelector('#df-65e67b59-1db3-4dbe-b8a5-c64f65fcd46e button.colab-df-convert');\n",
              "      buttonEl.style.display =\n",
              "        google.colab.kernel.accessAllowed ? 'block' : 'none';\n",
              "\n",
              "      async function convertToInteractive(key) {\n",
              "        const element = document.querySelector('#df-65e67b59-1db3-4dbe-b8a5-c64f65fcd46e');\n",
              "        const dataTable =\n",
              "          await google.colab.kernel.invokeFunction('convertToInteractive',\n",
              "                                                    [key], {});\n",
              "        if (!dataTable) return;\n",
              "\n",
              "        const docLinkHtml = 'Like what you see? Visit the ' +\n",
              "          '<a target=\"_blank\" href=https://colab.research.google.com/notebooks/data_table.ipynb>data table notebook</a>'\n",
              "          + ' to learn more about interactive tables.';\n",
              "        element.innerHTML = '';\n",
              "        dataTable['output_type'] = 'display_data';\n",
              "        await google.colab.output.renderOutput(dataTable, element);\n",
              "        const docLink = document.createElement('div');\n",
              "        docLink.innerHTML = docLinkHtml;\n",
              "        element.appendChild(docLink);\n",
              "      }\n",
              "    </script>\n",
              "  </div>\n",
              "\n",
              "\n",
              "<div id=\"df-f8117a2f-88bd-4bcd-bb13-973ce76654c6\">\n",
              "  <button class=\"colab-df-quickchart\" onclick=\"quickchart('df-f8117a2f-88bd-4bcd-bb13-973ce76654c6')\"\n",
              "            title=\"Suggest charts.\"\n",
              "            style=\"display:none;\">\n",
              "\n",
              "<svg xmlns=\"http://www.w3.org/2000/svg\" height=\"24px\"viewBox=\"0 0 24 24\"\n",
              "     width=\"24px\">\n",
              "    <g>\n",
              "        <path d=\"M19 3H5c-1.1 0-2 .9-2 2v14c0 1.1.9 2 2 2h14c1.1 0 2-.9 2-2V5c0-1.1-.9-2-2-2zM9 17H7v-7h2v7zm4 0h-2V7h2v10zm4 0h-2v-4h2v4z\"/>\n",
              "    </g>\n",
              "</svg>\n",
              "  </button>\n",
              "\n",
              "<style>\n",
              "  .colab-df-quickchart {\n",
              "    background-color: #E8F0FE;\n",
              "    border: none;\n",
              "    border-radius: 50%;\n",
              "    cursor: pointer;\n",
              "    display: none;\n",
              "    fill: #1967D2;\n",
              "    height: 32px;\n",
              "    padding: 0 0 0 0;\n",
              "    width: 32px;\n",
              "  }\n",
              "\n",
              "  .colab-df-quickchart:hover {\n",
              "    background-color: #E2EBFA;\n",
              "    box-shadow: 0px 1px 2px rgba(60, 64, 67, 0.3), 0px 1px 3px 1px rgba(60, 64, 67, 0.15);\n",
              "    fill: #174EA6;\n",
              "  }\n",
              "\n",
              "  [theme=dark] .colab-df-quickchart {\n",
              "    background-color: #3B4455;\n",
              "    fill: #D2E3FC;\n",
              "  }\n",
              "\n",
              "  [theme=dark] .colab-df-quickchart:hover {\n",
              "    background-color: #434B5C;\n",
              "    box-shadow: 0px 1px 3px 1px rgba(0, 0, 0, 0.15);\n",
              "    filter: drop-shadow(0px 1px 2px rgba(0, 0, 0, 0.3));\n",
              "    fill: #FFFFFF;\n",
              "  }\n",
              "</style>\n",
              "\n",
              "  <script>\n",
              "    async function quickchart(key) {\n",
              "      const charts = await google.colab.kernel.invokeFunction(\n",
              "          'suggestCharts', [key], {});\n",
              "    }\n",
              "    (() => {\n",
              "      let quickchartButtonEl =\n",
              "        document.querySelector('#df-f8117a2f-88bd-4bcd-bb13-973ce76654c6 button');\n",
              "      quickchartButtonEl.style.display =\n",
              "        google.colab.kernel.accessAllowed ? 'block' : 'none';\n",
              "    })();\n",
              "  </script>\n",
              "</div>\n",
              "    </div>\n",
              "  </div>\n"
            ]
          },
          "metadata": {},
          "execution_count": 8
        }
      ]
    },
    {
      "cell_type": "markdown",
      "source": [
        "1.     State the null and the alternate hypothesis for conducting one-way ANOVA for both Education and Occupation individually.\n"
      ],
      "metadata": {
        "id": "EBnSY18iSXPL"
      }
    },
    {
      "cell_type": "markdown",
      "source": [
        "**Null & Alternate Hypothesis for Education:**\n",
        "\n",
        "**H0:** Mean of \"salary\" variable is equal to the mean of \"Education\" variable.\n",
        "\n",
        "**Ha:** at least one of the Mean of \"Salary\" vaiable is not equal to the mean of \"Education\" variable.\n",
        "\n",
        "***Null & Alternate Hypothesis of Occupation: ***\n",
        "\n",
        "**H0:** Mean of \"salary\" variable is equal to the mean of \"Occupation\" variable.\n",
        "\n",
        "**Ha:** at least one of the Mean of \"Salary\" vaiable is not equal to the mean of \"Occupation\" variable."
      ],
      "metadata": {
        "id": "6BHIcWHW1Jhh"
      }
    },
    {
      "cell_type": "markdown",
      "source": [
        "2.     Perform a one-way ANOVA on Salary with respect to Education. State whether the null hypothesis is accepted or rejected based on the ANOVA results.\n"
      ],
      "metadata": {
        "id": "WPkfzSeHSaBU"
      }
    },
    {
      "cell_type": "code",
      "source": [
        "formula = 'Salary ~ C(Education)'#step1\n",
        "model = ols(formula, DF).fit()#step2"
      ],
      "metadata": {
        "id": "fA5BW9zhSbiz"
      },
      "execution_count": 9,
      "outputs": []
    },
    {
      "cell_type": "code",
      "source": [
        "model.f_pvalue"
      ],
      "metadata": {
        "colab": {
          "base_uri": "https://localhost:8080/"
        },
        "id": "kRWsEp5A9ylt",
        "outputId": "35397e52-3ed0-4824-b705-3def4f80aa27"
      },
      "execution_count": 10,
      "outputs": [
        {
          "output_type": "execute_result",
          "data": {
            "text/plain": [
              "1.2577090926628934e-08"
            ]
          },
          "metadata": {},
          "execution_count": 10
        }
      ]
    },
    {
      "cell_type": "code",
      "source": [
        "formula = 'Salary ~ C(Education)' #step 1\n",
        "model = ols(formula, DF).fit()#step2\n",
        "aov_table = anova_lm(model)#step 3\n",
        "print(aov_table)"
      ],
      "metadata": {
        "colab": {
          "base_uri": "https://localhost:8080/"
        },
        "id": "ilT1NSra-IgL",
        "outputId": "233e3a5f-63b5-432c-aa73-ba5e4edaa391"
      },
      "execution_count": 11,
      "outputs": [
        {
          "output_type": "stream",
          "name": "stdout",
          "text": [
            "                df        sum_sq       mean_sq         F        PR(>F)\n",
            "C(Education)   2.0  1.026955e+11  5.134773e+10  30.95628  1.257709e-08\n",
            "Residual      37.0  6.137256e+10  1.658718e+09       NaN           NaN\n"
          ]
        }
      ]
    },
    {
      "cell_type": "markdown",
      "source": [
        "**Drawing a point plot**"
      ],
      "metadata": {
        "id": "aM9IOTH-_si5"
      }
    },
    {
      "cell_type": "code",
      "source": [
        "sns.pointplot(x='Education', y='Salary',data=DF, ci=None);"
      ],
      "metadata": {
        "colab": {
          "base_uri": "https://localhost:8080/",
          "height": 536
        },
        "id": "qh1lZMwG_RL1",
        "outputId": "19266018-9717-451b-d33a-2e1e6d898393"
      },
      "execution_count": 12,
      "outputs": [
        {
          "output_type": "stream",
          "name": "stderr",
          "text": [
            "<ipython-input-12-b238f62365e0>:1: FutureWarning: \n",
            "\n",
            "The `ci` parameter is deprecated. Use `errorbar=None` for the same effect.\n",
            "\n",
            "  sns.pointplot(x='Education', y='Salary',data=DF, ci=None);\n"
          ]
        },
        {
          "output_type": "display_data",
          "data": {
            "text/plain": [
              "<Figure size 640x480 with 1 Axes>"
            ],
            "image/png": "[encoded data removed]"
          },
          "metadata": {}
        }
      ]
    },
    {
      "cell_type": "markdown",
      "source": [
        "**As the P-Value is less than Alpha hence we reject the null hypothesis. **"
      ],
      "metadata": {
        "id": "-X2-tSxZ_13g"
      }
    },
    {
      "cell_type": "markdown",
      "source": [
        "3.     Perform a one-way ANOVA on Salary with respect to Occupation. State whether the null hypothesis is accepted or rejected based on the ANOVA results.\n"
      ],
      "metadata": {
        "id": "KapEOYZLSb5X"
      }
    },
    {
      "cell_type": "code",
      "source": [
        "formula = 'Salary ~ C(Occupation)'#step1\n",
        "model = ols(formula, DF).fit()#step2"
      ],
      "metadata": {
        "id": "JEIbi90PSds4"
      },
      "execution_count": 13,
      "outputs": []
    },
    {
      "cell_type": "code",
      "source": [
        "model.f_pvalue"
      ],
      "metadata": {
        "colab": {
          "base_uri": "https://localhost:8080/"
        },
        "id": "CW-Ew0aaAOO9",
        "outputId": "caa45dbb-1dbd-4ebe-ce33-75bc68bd2fdb"
      },
      "execution_count": 14,
      "outputs": [
        {
          "output_type": "execute_result",
          "data": {
            "text/plain": [
              "0.45850782664951195"
            ]
          },
          "metadata": {},
          "execution_count": 14
        }
      ]
    },
    {
      "cell_type": "code",
      "source": [
        "formula = 'Salary ~ C(Occupation)'#step1\n",
        "model = ols(formula, DF).fit()#step2\n",
        "aov_table = anova_lm(model)#step 3\n",
        "print(aov_table)"
      ],
      "metadata": {
        "colab": {
          "base_uri": "https://localhost:8080/"
        },
        "id": "bjuaUlmjAOYQ",
        "outputId": "a4251745-36a6-462b-971c-a2dee0b28aaf"
      },
      "execution_count": 15,
      "outputs": [
        {
          "output_type": "stream",
          "name": "stdout",
          "text": [
            "                 df        sum_sq       mean_sq         F    PR(>F)\n",
            "C(Occupation)   3.0  1.125878e+10  3.752928e+09  0.884144  0.458508\n",
            "Residual       36.0  1.528092e+11  4.244701e+09       NaN       NaN\n"
          ]
        }
      ]
    },
    {
      "cell_type": "markdown",
      "source": [
        "**Drawing a Point Plot**"
      ],
      "metadata": {
        "id": "hXEPhuOFAaRa"
      }
    },
    {
      "cell_type": "code",
      "source": [
        "sns.pointplot(x='Occupation', y='Salary',data=DF, ci=None);"
      ],
      "metadata": {
        "colab": {
          "base_uri": "https://localhost:8080/",
          "height": 536
        },
        "id": "U8gWHMtxAefg",
        "outputId": "9e8bf98d-4ca0-41f7-d72e-e9db9b295484"
      },
      "execution_count": 16,
      "outputs": [
        {
          "output_type": "stream",
          "name": "stderr",
          "text": [
            "<ipython-input-16-615d9f23ff94>:1: FutureWarning: \n",
            "\n",
            "The `ci` parameter is deprecated. Use `errorbar=None` for the same effect.\n",
            "\n",
            "  sns.pointplot(x='Occupation', y='Salary',data=DF, ci=None);\n"
          ]
        },
        {
          "output_type": "display_data",
          "data": {
            "text/plain": [
              "<Figure size 640x480 with 1 Axes>"
            ],
            "image/png": "[encoded data removed]"
          },
          "metadata": {}
        }
      ]
    },
    {
      "cell_type": "markdown",
      "source": [
        "**As the P-Value is greater than Alpha, hence we failed to reject null hypothesis **"
      ],
      "metadata": {
        "id": "3HT7rhVoAuwh"
      }
    },
    {
      "cell_type": "markdown",
      "source": [
        "4.     If the null hypothesis is rejected in either (2) or in (3), find out which class means are significantly different. Interpret the result. (Non-Graded)\n"
      ],
      "metadata": {
        "id": "70-2ATRJSeBi"
      }
    },
    {
      "cell_type": "code",
      "source": [],
      "metadata": {
        "id": "mgktLRPTSfhP"
      },
      "execution_count": null,
      "outputs": []
    },
    {
      "cell_type": "markdown",
      "source": [
        "5.     Perform a two-way ANOVA based on Salary with respect to both Education and Occupation (along with their interaction Education*Occupation). State the null and alternative hypotheses and state your results. How will you interpret this result?\n"
      ],
      "metadata": {
        "id": "EPlkJTXHSfq7"
      }
    },
    {
      "cell_type": "markdown",
      "source": [
        "**Null & Alternate Hypothesis for Education & Occupation:**\n",
        "\n",
        "**H0:** Mean of \"salary\" variable is equal to the mean of \"Education\" & Occupation variables.\n",
        "\n",
        "**Ha:** at least one of the Mean of \"Salary\" vaiable is not equal to the mean of \"Education\" and \"occupation variables."
      ],
      "metadata": {
        "id": "8ilRdw2aHbvx"
      }
    },
    {
      "cell_type": "code",
      "source": [
        "formula = 'Salary ~ C(Education)+C(Occupation)' #step1\n",
        "model = ols(formula, DF).fit() #step2\n",
        "aov_table = anova_lm(model,typ=2) #step 3\n",
        "print(aov_table)"
      ],
      "metadata": {
        "colab": {
          "base_uri": "https://localhost:8080/"
        },
        "id": "UzWA5plJShck",
        "outputId": "df27a2d0-4dc8-47cd-f7cc-fa6c51ce135f"
      },
      "execution_count": 20,
      "outputs": [
        {
          "output_type": "stream",
          "name": "stdout",
          "text": [
            "                     sum_sq    df          F        PR(>F)\n",
            "C(Education)   9.695663e+10   2.0  29.510933  3.708479e-08\n",
            "C(Occupation)  5.519946e+09   3.0   1.120080  3.545825e-01\n",
            "Residual       5.585261e+10  34.0        NaN           NaN\n"
          ]
        }
      ]
    },
    {
      "cell_type": "markdown",
      "source": [
        "**Interaction between the two categorical variables:**\n",
        "\n",
        "H0: There is no interaction in the means of both the category.\n",
        "\n",
        "Ha: There is atleast one of the group of a category is interaction."
      ],
      "metadata": {
        "id": "CPn6MCZhNB4L"
      }
    },
    {
      "cell_type": "code",
      "source": [
        "sns.pointplot(x=DF['Occupation'], y=DF['Salary'], ci=False,hue=DF['Education']);"
      ],
      "metadata": {
        "colab": {
          "base_uri": "https://localhost:8080/",
          "height": 536
        },
        "id": "jPOjQaEkSptI",
        "outputId": "a8d2d0e4-41e8-459c-af6f-2e028f7e730f"
      },
      "execution_count": 27,
      "outputs": [
        {
          "output_type": "stream",
          "name": "stderr",
          "text": [
            "<ipython-input-27-04b0fb2f5c10>:1: FutureWarning: \n",
            "\n",
            "The `ci` parameter is deprecated. Use `errorbar=('ci', False)` for the same effect.\n",
            "\n",
            "  sns.pointplot(x=DF['Occupation'], y=DF['Salary'], ci=False,hue=DF['Education']);\n"
          ]
        },
        {
          "output_type": "display_data",
          "data": {
            "text/plain": [
              "<Figure size 640x480 with 1 Axes>"
            ],
            "image/png": "[encoded data removed]"
          },
          "metadata": {}
        }
      ]
    },
    {
      "cell_type": "markdown",
      "source": [
        "As seen from the plot above, there seems to interaction\n",
        "between Doctorate and Bachelors on the occupation of ADM-clerical and Sales.\n",
        "\n",
        "Also, there is some kind of interaction between Bachelors and HS-grad on the Occupation of Prof-specialty.\n",
        "\n",
        "Very minimum to no interaction between Doctorate and HS-grad on the occupation.\n",
        "\n",
        "The above indicates that a Doctorate grad may not be highly preferred for a job role and might be over-QUALIFIED which results at par or not significantly higher wage to that of a Bachelors degree holder."
      ],
      "metadata": {
        "id": "kMQTJKAGVImK"
      }
    },
    {
      "cell_type": "code",
      "source": [
        "#Interaction Effect:\n",
        "model=ols('Salary~ C(Education)+ C(Occupation)+ C(Education):(Occupation)',data=DF).fit()\n",
        "aov_table=anova_lm(model,typ=3)\n",
        "print(aov_table)"
      ],
      "metadata": {
        "colab": {
          "base_uri": "https://localhost:8080/"
        },
        "id": "a2twCH63Ni5m",
        "outputId": "8bf22e12-ac2e-46b4-ec0e-008324d73362"
      },
      "execution_count": 25,
      "outputs": [
        {
          "output_type": "stream",
          "name": "stdout",
          "text": [
            "                               sum_sq    df           F        PR(>F)\n",
            "Intercept                8.742674e+10   1.0  122.951013  6.022884e-12\n",
            "C(Education)             1.686040e+10   2.0   11.855657  1.726495e-04\n",
            "C(Occupation)            2.703632e+09   3.0    1.267401  3.039308e-01\n",
            "C(Education):Occupation  4.584548e+10   9.0    7.163774  3.266622e-05\n",
            "Residual                 2.062102e+10  29.0         NaN           NaN\n"
          ]
        },
        {
          "output_type": "stream",
          "name": "stderr",
          "text": [
            "/usr/local/lib/python3.10/dist-packages/statsmodels/base/model.py:1888: ValueWarning: covariance of constraints does not have full rank. The number of constraints is 9, but rank is 8\n",
            "  warnings.warn('covariance of constraints does not have full '\n"
          ]
        }
      ]
    },
    {
      "cell_type": "markdown",
      "source": [
        "For the variable Education, as the P value is less than significance level which means that Education has a significant impact on the mean Salary. Therefore, Null Hypothesis are rejected.\n",
        "\n",
        "Variable Occupation, As the P value is higher than SL of 0.5 hence we failed to reject Null Hypothesis.\n",
        "\n",
        "About the interaction, P-Value  of Variables “Occupation” + “Education”   is less than 0.5 indicating that there is some statistical evidence about the interaction between the 2."
      ],
      "metadata": {
        "id": "RcFjZp_MXP6T"
      }
    },
    {
      "cell_type": "markdown",
      "source": [
        "6.     Explain the business implications of performing ANOVA for this particular case study."
      ],
      "metadata": {
        "id": "BibmqPyoShwW"
      }
    },
    {
      "cell_type": "markdown",
      "source": [
        "Based on the Anova test below are the observations:\n",
        "\n",
        "Salary in significantly dependent on the level of education as compared to the job role.\n",
        "\n",
        "Conclusion of statistics about the interaction between Education and Occupation on Salary, it is safe to say despite occupation less significance there is still some impact of the job role on salary.\n",
        "\n",
        "We also noticed that few few bachelors are on higher salary in comparison to doctorate. This may be the result of wrong data provided."
      ],
      "metadata": {
        "id": "sjSRrmKcZdgZ"
      }
    }
  ]
}